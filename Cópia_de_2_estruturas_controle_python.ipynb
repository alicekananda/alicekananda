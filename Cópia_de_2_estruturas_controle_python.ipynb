{
  "cells": [
    {
      "cell_type": "markdown",
      "metadata": {
        "id": "view-in-github",
        "colab_type": "text"
      },
      "source": [
        "<a href=\"https://colab.research.google.com/github/alicekananda/alicekananda/blob/main/C%C3%B3pia_de_2_estruturas_controle_python.ipynb\" target=\"_parent\"><img src=\"https://colab.research.google.com/assets/colab-badge.svg\" alt=\"Open In Colab\"/></a>"
      ]
    },
    {
      "cell_type": "markdown",
      "metadata": {
        "id": "O0bUwwjL_AX3"
      },
      "source": [
        "## Estruturas de Controle \n",
        "\n",
        "\n",
        "### Estruturas de Seleção\n",
        "\n",
        "As estruturas de seleção *if* e *if/else* são usadas para controle da execução sequêncial de um programa. \n",
        "Na prática, se uma determinada condição lógica for avaliada como verdadeira, o interpretador Python executa todos os comandos dentro do bloco da estrutura de seleção. \n",
        "Em Python, para a estruturas de seleção única usamos a palavra-chave *if* e para estruturas de seleção múltiplas usamos o nome *elsif*. \n",
        "\n",
        "```python\n",
        " if condicao1:\n",
        "    # Executa quando a condição1 for verdadeira\n",
        " elif condicao2:\n",
        "    # Executa quando a condição2 for verdadeira\n",
        " else:\n",
        "    # Executa quando todas condições não forem satisfeitas\n",
        "```\n",
        "\n",
        "### Estruturas de Repetição\n",
        "\n",
        "O Python possui duas estruturas de repetição, são elas: *for* e *while*. A estrutura de repetição *for*, em sua sintaxe, difere um pouco, por exemplo, das linguagens de programação baseadas em C, onde definimos uma condição de parada (i < n) e um passo de iteração (i++). O comando *for* é usado para percorrer os itens de qualquer sequência (p. ex.: lista, string ou tupla) para que eles apareçam em série ou simplesmente como um laço de repetição (*loop*). "
      ]
    },
    {
      "cell_type": "code",
      "execution_count": null,
      "metadata": {
        "id": "T9McvAPB_AX-"
      },
      "outputs": [],
      "source": [
        "cores  = [\"Vermelho\", \"Laranja\", \"Amarelo\", \"Verde\", \"Azul\", \"Anil\", \"Violeta\"]\n",
        "\n",
        "for cor in cores:\n",
        "    print(\"Eu ♥ \" + cor)"
      ]
    },
    {
      "cell_type": "markdown",
      "metadata": {
        "id": "njYuyJax_AYA"
      },
      "source": [
        "Se você possui alguma experiência anterior com programação, deve estar se perguntando neste exato momento, como podemos percorrer os itens de uma sequência usando índices? Para tal, podemos utilizar a função range() em conjunto com a função len(). A função *range(start, stop, step)* do Python, retorna uma sequência de números, começando em 0 (zero) por padrão, e incrementando de um em um, até o fim de um número especificado como parâmetro. A função len(), por sua vez, retorna o número de itens de uma determina sequência. Acompanhe abaixo, alguns exemplos de como essas funções podem ser usadas em conjunto com a instrução *for* para indexar itens de uma lista."
      ]
    },
    {
      "cell_type": "code",
      "execution_count": null,
      "metadata": {
        "id": "wKiuxg5E_AYB"
      },
      "outputs": [],
      "source": [
        "# EXEMPLOS - Função range()\n",
        "lista1 = range(5)\n",
        "lista2 = range(10, 20, 2)\n",
        "lista3 = range(1, 5)\n",
        "lista4 = range(5, -1, -1)\n",
        "\n",
        "print(\"EXEMPLOS: Função range()\\n\")\n",
        "\n",
        "for item in lista1:\n",
        "    print(item) # Para range(5) Saída: [0, 1, 2, 3, 4]\n",
        "\n",
        "print(\"\\n\") \n",
        "    \n",
        "for item in lista2:\n",
        "    print(item) # Para range(10, 20, 2) Saída: [10, 12, 14, 16, 18]\n",
        "\n",
        "print(\"\\n\")     \n",
        "    \n",
        "for item in lista3:\n",
        "    print(item) # Para range(1, 5) Saída: [1, 2, 3, 4]\n",
        "\n",
        "print(\"\\n\")     \n",
        "    \n",
        "for item in lista4:\n",
        "    print(item) # Para range(1, 5) Saída: [1, 2, 3, 4]\n",
        "    \n",
        "    \n",
        "print(\"\\n\")     \n",
        "    \n",
        "    \n",
        "# EXEMPLOS - for, range() e len\n",
        "print(\"EXEMPLOS: for, len() e range()\\n\")\n",
        "\n",
        "\n",
        "# Imprimindo lista de cores\n",
        "cores  = [\"Vermelho\", \"Laranja\", \"Amarelo\", \"Verde\", \"Azul\", \"Anil\", \"Violeta\"]\n",
        "n = len(cores) # a função len() retorna o número de elementos\n",
        "\n",
        "for i in range(n):\n",
        "    print(cores[i])\n",
        "\n",
        "print(\"\\n\")\n",
        "\n",
        "for i in range((n - 1), -1, -1):\n",
        "    print(cores[i])\n",
        "\n",
        "\n",
        "# for aninhado para impressão de um padrão numérico\n",
        "for i in range(10):\n",
        "    for j in range(i):\n",
        "        print(i, end=\" \")    # Imprime o número\n",
        "    print(\"\\n\")              # Adiciona quebra de linha ao final de cada linha"
      ]
    },
    {
      "cell_type": "markdown",
      "metadata": {
        "id": "TGmBaX55_AYC"
      },
      "source": [
        "Assim como o for, a estrutura de repetição while é usada para repetir um trecho de código várias vezes, porém, no while a repetição continua enquanto uma condição lógica definida seja verdadeira (True), veja alguns exemplos abaixo: \n",
        "\n",
        "```python\n",
        "while condicao: # enquanto condição for verdadeira\n",
        "    # Executa algum(ns) comando(s)\n",
        "    # Atualiza variável de controle\n",
        "```"
      ]
    },
    {
      "cell_type": "code",
      "execution_count": null,
      "metadata": {
        "id": "ON-dBb8t_AYD"
      },
      "outputs": [],
      "source": [
        "contador = 0                 # Define uma variável de controle que será avaliada na condição\n",
        "\n",
        "while contador < 10:         # enquanto a condição (contador < 10) for verdadeira\n",
        "    print(contador)          # Executa algum comando: print(contador)\n",
        "    contador = contador + 1  # Atualiza a variável de controle\n",
        "    \n",
        "print(\"\\n\")\n",
        "\n",
        "\n",
        "# EXEMPLO: Algoritmo Fatorial Iterativo\n",
        "n = 3\n",
        "i = 1\n",
        "resultado = 1\n",
        "\n",
        "while i <= n:\n",
        "    resultado = resultado * i\n",
        "    i = i + 1\n",
        "    \n",
        "print(\"Fatorial de %d é %d\" % (n, resultado))\n",
        "    "
      ]
    },
    {
      "cell_type": "markdown",
      "metadata": {
        "id": "MaVVRajo_AYE"
      },
      "source": [
        "### Técnicas de Looping\n",
        "\n",
        "1. Ao percorrer dicionários, a chave e o valor, podem ser recuperados ao mesmo tempo através do método *items()*;\n",
        "\n",
        "```python\n",
        "websites = {'site': \"Python Software Foundation\", 'url': \"https://www.python.org/\"}\n",
        "\n",
        "for key, value in websites.items():\n",
        "    print(key, value)\n",
        "    \n",
        "# Saída\n",
        "# site Python Software Foundation\n",
        "# url https://www.python.org/\n",
        "```\n",
        "\n",
        "2. Ao percorrer sequências, índice e o item, podem ser recuperados ao mesmo tempo através do método *enumerate()*;\n",
        "\n",
        "```python\n",
        "rgb = [\"Red\", \"Green\", \"Blue\"]\n",
        "\n",
        "for i, item in enumerate(rgb):\n",
        "    print(i, item)\n",
        "    \n",
        "# Saída\n",
        "# 0 Red\n",
        "# 1 Green\n",
        "# 2 Blue\n",
        "```\n",
        "\n",
        "3. Para percorrer duas ou mais sequências ao mesmo tempo, as entradas podem ser emparelhadas através da função *zip()*;\n",
        "\n",
        "\n",
        "```python\n",
        "condinomes_android = [\"Petit Four\", \"Eclair\",  \"Honeycomb\", \"Ice Cream Sandwich\", \"Lollipop\", \"Marshmallow\", \"Nougat\", \"Oreo\", \"Pie\"]\n",
        "versoes_android = [\"1.1\", \"2.0 – 2.1\", \"3.0 – 3.2.6\", \"4.0 – 4.0.4\", \"5.0 – 5.1.1\", \"6.0 – 6.0.1\", \"7.0 – 7.1.2\", \"8.0 – 8.1\", \"9.0\"]\n",
        "\n",
        "for codinome, versao in zip(condinomes_android, versoes_android):\n",
        "    print(codinome, versao)\n",
        "    \n",
        "# Saída\n",
        "# Petit Four 1.1\n",
        "# Eclair 2.0 – 2.1\n",
        "# Honeycomb 3.0 – 3.2.6\n",
        "# Ice Cream Sandwich 4.0 – 4.0.4\n",
        "# Lollipop 5.0 – 5.1.1\n",
        "# Marshmallow 6.0 – 6.0.1\n",
        "# Nougat 7.0 – 7.1.2\n",
        "# Oreo 8.0 – 8.1\n",
        "# Pie 9.0\n",
        "```\n",
        "\n",
        "4. Para iterar em uma sequência ordenada sem alterar a ordem dos elementos utilize o metodo *sorted()* que irá retornar uma nova lista ordenada sem alterar a original\n",
        "\n",
        "```python\n",
        "estados_sudeste_brasileiro = [\"São Paulo\", \"Rio de Janeiro\", \"Minas Gerais\", \"Espírito Santo\"]\n",
        "\n",
        "for estado in sorted(set(estados_sudeste_brasileiro)):\n",
        "    print(estado)\n",
        "    \n",
        "# Saída\n",
        "# Espírito Santo\n",
        "# Minas Gerais\n",
        "# Rio de Janeiro\n",
        "# São Paulo    \n",
        "    \n",
        "```"
      ]
    },
    {
      "cell_type": "markdown",
      "metadata": {
        "id": "BXsA2PHI_AYF"
      },
      "source": [
        "## Exercícios"
      ]
    },
    {
      "cell_type": "markdown",
      "metadata": {
        "id": "08DwmZTL_AYF"
      },
      "source": [
        "1. A nota final de um estudante é calculada a partir de três notas atribuídas, respectivamente, a um trabalho\n",
        "de laboratório, a uma avaliação semestral e a um exame final. A média das três notas mencionadas\n",
        "obedece aos pesos a seguir:\n",
        "\n",
        "| Nota                    | Peso |\n",
        "|-------------------------|------|\n",
        "| Trabalho de Laboratório | 2    |\n",
        "| Avaliação Semestral     | 3    |\n",
        "| Exame Final             | 5    |\n",
        "\n",
        "\n",
        "Faça um programa que receba as três notas, calcule e mostre a média ponderada e o conceito que segue\n",
        "a tabela:\n",
        "\n",
        "| Média Ponderada        | Conceito |\n",
        "|------------------------|----------|\n",
        "| 8,00 <= Média <= 10,00 | A        |\n",
        "| 7,00 <= Média < 8,00   | B        |\n",
        "| 6,00 <= Média < 7,00   | C        |\n",
        "| 5,00 <= Média < 6,00   | D        |\n",
        "| 0,00 <= Média < 5,00   | E        |\n",
        "\n"
      ]
    },
    {
      "cell_type": "code",
      "execution_count": null,
      "metadata": {
        "id": "bMM7Wtmz_AYG",
        "outputId": "95c3b707-4c3f-4461-a0eb-db23adbacd76",
        "colab": {
          "base_uri": "https://localhost:8080/",
          "height": 130
        }
      },
      "outputs": [
        {
          "output_type": "error",
          "ename": "SyntaxError",
          "evalue": "ignored",
          "traceback": [
            "\u001b[0;36m  File \u001b[0;32m\"<ipython-input-1-d9edf9effe01>\"\u001b[0;36m, line \u001b[0;32m7\u001b[0m\n\u001b[0;31m    for i in range(n)\u001b[0m\n\u001b[0m                     ^\u001b[0m\n\u001b[0;31mSyntaxError\u001b[0m\u001b[0;31m:\u001b[0m invalid syntax\n"
          ]
        }
      ],
      "source": [
        "TrabalhoDeLaboratorio = int(input(\"Digite a nota do Trabalho de Laborátorio: \"))\n",
        "AvaliacaoSemestral = int(input(\"Digite a nota da Avaliação Semestral: \"))\n",
        "ExameFinal = int(input(\"Digite a nota do Exame Final: \"))\n",
        "\n",
        "media = TrabalhoDeLaboratorio * 2 + AvaliacaoSemestral * 3 + ExameFinal * 5 / (2+3+5)\n",
        "\n",
        "for i in range(n)\n",
        "nota = float(input(\"Qual a proxima nota? \"))\n",
        "peso = float(input(\"Qual é o proximo peso? \"))\n",
        "\n",
        "print(\"A média é: \" media)\n",
        "\n",
        "A = 8,00 <= media <= 10,00\n",
        "B = 7,00 <= media < 8,00\n",
        "C = 6,00 <= media < 7,00\n",
        "D = 5,00 <= media < 6,00\n",
        "E = 0,00 <= media < 5,00"
      ]
    },
    {
      "cell_type": "markdown",
      "metadata": {
        "id": "7lfRjz3L_AYH"
      },
      "source": [
        "2. Faça um programa que receba três notas de um aluno, calcule e mostre a média aritmética e a mensagem constante na tabela a seguir. \n",
        "\n",
        "| Média                  | Situação       |\n",
        "|------------------------|----------------|\n",
        "| 7,00 <= Média <= 10,00 | Aprovado       |\n",
        "| 3,00 <= Média < 7,00   | Exame Especial |\n",
        "| 0,00 <= Média < 3,00   | Reprovado      |"
      ]
    },
    {
      "cell_type": "code",
      "execution_count": null,
      "metadata": {
        "id": "PDHsbSfD_AYH"
      },
      "outputs": [],
      "source": [
        "nota1 = float(input(\"Insira a primeira nota do aluno\"))\n",
        "nota2 = float(input(\"Insira a segunda nota do aluno\"))\n",
        "nota3 = float(input(\"Insira a terceira nota do aluno\"))\n",
        "medAritmetica = (nota1 + nota2 + nota3) / 3 \n",
        "\n",
        "print(\"Média Aritmética = \", medAritmetica)"
      ]
    },
    {
      "cell_type": "markdown",
      "metadata": {
        "id": "q2cmQ-q4_AYH"
      },
      "source": [
        "3. Faça um programa que receba dois números e mostre o maior."
      ]
    },
    {
      "cell_type": "code",
      "execution_count": null,
      "metadata": {
        "id": "kbFnszzU_AYI"
      },
      "outputs": [],
      "source": [
        "x = int(input(\"Insira o primeiro número\"))\n",
        "y = int(input(\"Insira o segundo número\"))\n",
        "\n",
        "def maior(x,y):\n",
        "    max = x\n",
        "\n",
        "    if x > max:\n",
        "        max = x\n",
        "    if y > max:\n",
        "        max = y\n",
        "\n",
        "    return max\n",
        "\n",
        "    print(\"Maior: \", maior(x,y))"
      ]
    },
    {
      "cell_type": "markdown",
      "metadata": {
        "id": "ndEX0UQ__AYI"
      },
      "source": [
        "4. Faça um programa que receba um número inteiro e verifique se é par ou ímpar."
      ]
    },
    {
      "cell_type": "code",
      "execution_count": null,
      "metadata": {
        "id": "TlFhNIOH_AYI"
      },
      "outputs": [],
      "source": [
        "numero = int(input('Digite um inteiro: '))\n",
        "\n",
        "    if (numero%2) == 0:\n",
        "        print(\"Par\")\n",
        "    else:\n",
        "        print(\"Ímpar\")"
      ]
    },
    {
      "cell_type": "markdown",
      "metadata": {
        "id": "GbrkOy2c_AYJ"
      },
      "source": [
        "5. Faça um programa que mostre o menu de opções a seguir, receba a opção do usuário e os dados necessários para executar cada operação.\n",
        "\n",
        "Menu de opções:\n",
        "\n",
        "1. Somar dois números.\n",
        "2. Raiz quadrada de um número.\n",
        "\n",
        "Digite a opção desejada:"
      ]
    },
    {
      "cell_type": "code",
      "execution_count": null,
      "metadata": {
        "id": "7VeA1_Ds_AYJ"
      },
      "outputs": [],
      "source": [
        "numero1 = int(input(\"Digite um numero inteiro: \"))\n",
        "numero2 = int(input(\"Digite outro numero inteiro: \"))\n",
        "\n",
        "if (numero1 + numero2) = soma\n",
        "    print(\"A soma dos dois números é: \" soma)\n",
        "else (numero1 / 2) = raizQuadrada\n",
        "    print(\"A raiz quadrada é: \" raizQuadrada)"
      ]
    },
    {
      "cell_type": "markdown",
      "metadata": {
        "id": "uZMMRukz_AYJ"
      },
      "source": [
        "6. Faça um programa que receba o código correspondente ao cargo de um funcionário e seu salário atual e mostre o cargo, o valor do aumento e seu novo salário. Os cargos estão na tabela a seguir.\n",
        "\n",
        "| Código | Cargo       | Percentual  |\n",
        "|--------|-------------|-------------|\n",
        "| 1      | Escrituário | 50%         |\n",
        "| 2      | Secretário  | 35%         |\n",
        "| 3      | Caixa       | 20%         |\n",
        "| 4      | Gerente     | 10%         |\n",
        "| 5      | Diretor     | Sem Aumento |"
      ]
    },
    {
      "cell_type": "code",
      "execution_count": null,
      "metadata": {
        "id": "ddpjAAU3_AYJ"
      },
      "outputs": [],
      "source": [
        "codigo1 = int(input(\"Digite o código 1: \"))\n",
        "codigo2 = int(input(\"Digite o código 2: \"))\n",
        "codigo3 = int(input(\"Digite o codigo 3: \"))\n",
        "codigo4 = int(input(\"Digite o codigo 4: \"))\n",
        "codigo5 = int(input(\"Digite o codigo 5: \"))\n",
        "\n",
        "print(\"Escrituário \")\n",
        "print(\"Secretário \")\n",
        "print(\"Caixa \")\n",
        "print(\"Gerente \")\n",
        "print(\"Diretor \")\n",
        "\n",
        "porcentual1 = float(input(\"Digite a porcentagem do Escrituário \"))\n",
        "porcentual2 = float(input(\"Digite a porcentagem do Secretário \"))\n",
        "porcentual3 = float(input(\"Digite a porcentagem do Caixa \"))\n",
        "porcentual4 = float(input(\"Digite a porcentagem do Gerente \"))\n",
        "porcentual5 = float(input(\"Digite a porcentagem do Diretor \"))"
      ]
    },
    {
      "cell_type": "markdown",
      "metadata": {
        "id": "FlthUo9U_AYK"
      },
      "source": [
        "7. Faça um programa que receba o salário inicial de um funcionário, calcule e mostre o novo salário, acrescido de bonificação e de auxílio escola.\n",
        "\n",
        "| Salário                      | Bonificação     |\n",
        "|------------------------------|-----------------|\n",
        "| Até R\\\\$500,00                 | 5% do salário  |\n",
        "| Entre R\\\\$500,00 e R\\$1.1200,00 | 12% do salário  \n",
        "| Acima de R\\\\$1.200,00          | Sem Bonificação |\n",
        "\n",
        "| Salário           | Auxílio Escola |\n",
        "|-------------------|----------------|\n",
        "| Até R\\\\$600,00      | R\\\\$150,00       |\n",
        "| Acima de R\\\\$600,00 | R\\\\$100,00       |"
      ]
    },
    {
      "cell_type": "code",
      "execution_count": null,
      "metadata": {
        "id": "MRhQuC3Y_AYK"
      },
      "outputs": [],
      "source": [
        "salario = float(input(\"Digite seu salário: \"))\n",
        "pc_aumento = 0.15\n",
        "if salario > 1250:\n",
        "    pc_aumento = 0.10\n",
        "aumento = salario * pc_aumento\n",
        "print(f\"Seu aumento será de: R$ {aumento:7.2f}\")"
      ]
    },
    {
      "cell_type": "markdown",
      "metadata": {
        "id": "HMJ8qxd__AYK"
      },
      "source": [
        "8. Um supermercado deseja reajustar os preços de seus produtos usando o seguinte critério: o produto poderá ter seu preço aumentado ou diminuído. Para o preço ser alterado, o produto deve preencher pelo menos um dos requisitos a seguir:\n",
        "\n",
        "| Venda Média Mensal | Preço Atual             | % de Aumento | % de Diminuição |\n",
        "|--------------------|-------------------------|--------------|-----------------|\n",
        "| < 500              | < R\\\\$ 30,00              | 10           | -               |\n",
        "| >= 500 e < 1.200   | >= R\\\\$30,00 e < R\\\\$ 80,00 | 15           | -               |\n",
        "| >= 1.200           | >= R\\\\$80,00              | -            | 20              |"
      ]
    },
    {
      "cell_type": "code",
      "execution_count": null,
      "metadata": {
        "id": "HiFZrj3i_AYK"
      },
      "outputs": [],
      "source": [
        "algoritmo \"exec_01_aula16\"\n",
        "var\n",
        "   m,p,valor:real\n",
        "inicio\n",
        "   escreva(\"Digite a média mensal de vendas: \")\n",
        "   leia(m)\n",
        "   escreva(\"Digite preço do produto: \")\n",
        "   leia(p)\n",
        "   se (m<500) ou (p<30) entao\n",
        "      valor<-(p+((p/100)*10))\n",
        "   senao\n",
        "      se ((m>=500) e (m<1200)) ou ((p>=30) e (p<80)) entao\n",
        "         valor<-(p+((p/100)*15))\n",
        "      senao\n",
        "         se (m>=1200) ou (p>=80) entao\n",
        "            valor<-(p-((p/100)*20))\n",
        "         fimse\n",
        "      fimse\n",
        "   fimse\n",
        "   escreva(\"O novo preço é de\",valor,\".\")\n",
        "fimalgoritmo"
      ]
    },
    {
      "cell_type": "markdown",
      "metadata": {
        "id": "xJd3vwBB_AYK"
      },
      "source": [
        "9. Faça um programa para resolver equações do 2º grau.\n",
        "\n",
        "$$\n",
        "a^{2} + bx + c = 0\n",
        "$$\n",
        "\n",
        "\n",
        "Onde x é uma variável, sendo a, b e c constantes, com a ≠ 0 \n",
        "\n",
        "\n",
        "$$\n",
        "\\Delta = b^{2} - 4ac\n",
        "$$\n",
        "\n",
        "$$\n",
        "\\Delta < 0 \\rightarrow não \\: existe  \\: raiz  \\: real\n",
        "$$\n",
        "\n",
        "$$\n",
        "\\Delta = 0 \\rightarrow  existe  \\: raiz  \\: real\n",
        "$$\n",
        "\n",
        "$$\n",
        "x = \\frac{-b}{2a}\n",
        "$$\n",
        "\n",
        "\n",
        "\n",
        "$$\n",
        "\\Delta > 0 \\rightarrow existem \\: duas  \\: raizes  \\: reais\n",
        "$$\n",
        "\n",
        "\n",
        "$$\n",
        "x_1 = \\frac{-b \\: + \\: \\sqrt{\\Delta } }{2a}\n",
        "$$\n",
        "\n",
        "$$\n",
        "x_2 = \\frac{-b \\: - \\: \\sqrt{\\Delta } }{2a}\n",
        "$$"
      ]
    },
    {
      "cell_type": "code",
      "execution_count": null,
      "metadata": {
        "id": "s9f0--44_AYL"
      },
      "outputs": [],
      "source": [
        " import math\n",
        "    \n",
        "    print('Equaçao do 2o grau da forma: ax² + bx + c')\n",
        "    \n",
        "    a = int( input('Coeficiente a: ') )\n",
        "\n",
        "    if(a==0):\n",
        "        print('Se a=0, não é equação do segundo grau')\n",
        "    else:\n",
        "        b = int( input('Coeficiente b: ') )\n",
        "        c = int( input('Coeficiente c: ') )\n",
        "        delta = b*b - (4*a*c)\n",
        "\n",
        "        if delta<0:\n",
        "            print('Delta menor que 0. Raízes imaginárias')\n",
        "        elif delta==0:\n",
        "            raiz = -b / (2*a)\n",
        "            print('Delta=0 , raiz = ',raiz)\n",
        "        else:\n",
        "            raiz1 = (-b + math.sqrt(delta) ) / (2*a)\n",
        "            raiz2 = (-b - math.sqrt(delta) ) / (2*a)\n",
        "            print('Raizes: ',raiz1,' e ',raiz2)"
      ]
    },
    {
      "cell_type": "markdown",
      "metadata": {
        "id": "z2NMgyD3_AYL"
      },
      "source": [
        "10. Dados três valores X, Y e Z, verifique se eles podem ser os comprimentos dos lados de um triângulo e, se forem, verifique se é um triângulo equilátero, isósceles ou escaleno. Se eles não formarem um triângulo, escreva uma mensagem. Considere que:\n",
        "\n",
        "- O comprimento de cada lado de um triângulo é menor que a soma dos outros dois lados;\n",
        "- Chama-se equilátero o triângulo que tem três lados iguais;\n",
        "- Denomina-se isósceles o triângulo que tem o comprimento de dois lados iguais;\n",
        "- Recebe o nome de escaleno o triângulo que tem os três lados diferentes."
      ]
    },
    {
      "cell_type": "code",
      "execution_count": null,
      "metadata": {
        "id": "06fD-4Lo_AYL"
      },
      "outputs": [],
      "source": [
        "int main() {\n",
        "    int a, b, c;\n",
        "\n",
        "    print(\"Digite tres valores: \");\n",
        "   \n",
        "        if(a + b > c && a + c > b && b + c > a){\n",
        "        printf(\"Os 3 lados formam um triangulo!\\n\");\n",
        "        if(a == b && a == c)\n",
        "            printf(\"Equilatero\\n\");\n",
        "        else\n",
        "            if(a == b || a == c || b == c)\n",
        "                printf(\"Isosceles\\n\");\n",
        "            else\n",
        "                printf(\"Escaleno\\n\");\n",
        "    }\n",
        "    else\n",
        "        print(\"Os 3 lados NAO formam um trinagulo!\");\n",
        "}"
      ]
    },
    {
      "cell_type": "markdown",
      "metadata": {
        "id": "gGTn3yPt_AYL"
      },
      "source": [
        "11. Faça um programa que receba a altura e o peso de uma pessoa. De acordo com a tabela a seguir, verifique e mostre a classificação dessa pessoa.\n",
        "\n",
        "| Altura           | Peso até 60 | Peso entre 60 e 90 (Inclusive) | Peso Acima de 90 |\n",
        "|------------------|-------------|--------------------------------|------------------|\n",
        "| Menores que 1,20 | A           | D                              | G                |\n",
        "| De 1,20 a 1,70   | B           | E                              | H                |\n",
        "| Maiores que 1,70 | C           | F                              | I                |"
      ]
    },
    {
      "cell_type": "code",
      "execution_count": null,
      "metadata": {
        "id": "z9_EL0rd_AYL"
      },
      "outputs": [],
      "source": [
        "float(input(\"Digite o peso\"))\n",
        "float(input(\"Digite a altura\"))\n",
        "\n",
        "altura1 = 1,2\n",
        "altura2 = 1,7\n",
        "peso1 = 60\n",
        "peso2 = 90\n",
        "\n",
        "if (altura1 < 1,2) (altura < 1,7) (peso1 <= 60)\n",
        "    print (\"Categoria A\")\n",
        "else (peso1 <= 60) (peso2 <= 90)\n",
        "    print(\"Categoria B\")\n",
        "else if (peso2 <= 90)\n",
        "    print(\"Categoria C\")"
      ]
    },
    {
      "cell_type": "markdown",
      "metadata": {
        "id": "htEthaUi_AYM"
      },
      "source": [
        "12. Faça um programa que receba:\n",
        "\n",
        "- O código de um produto comprado, supondo que a digitação do código do produto seja sempre válida, isto é, um número inteiro entre 1 e 10.\n",
        "- O peso do produto em quilos.\n",
        "- O código do país de origem, supondo que a digitação do código seja sempre válida, isto é, um número inteiro entre 1 e 3. \n",
        "\n",
        "Tabelas:\n",
        "\n",
        "| Código do País de Origem | Imposto |\n",
        "|--------------------------|---------|\n",
        "| 1                        | 0%      |\n",
        "| 2                        | 15%     |\n",
        "| 3                        | 25%     |\n",
        "\n",
        "\n",
        "| Código do Produto | Preço por Grama |\n",
        "|-------------------|-----------------|\n",
        "| 1 a 4             | 10              |\n",
        "| 5 a 7             | 25              |\n",
        "| 8 a 10            | 35              |"
      ]
    },
    {
      "cell_type": "code",
      "execution_count": null,
      "metadata": {
        "id": "r-qmeh5F_AYM"
      },
      "outputs": [],
      "source": [
        "while True:\n",
        "    código = int(input(\"Código da mercadoria (0 para sair): \"))\n",
        "    preço = 0\n",
        "    if código == 0:\n",
        "        break\n",
        "    elif código == 1:\n",
        "        preço = 0.50\n",
        "    elif código == 2:\n",
        "        preço = 1.00\n",
        "    elif código == 3:\n",
        "        preço = 4.00\n",
        "    elif código == 5:\n",
        "        preço = 7.00\n",
        "    elif código == 9:\n",
        "        preço = 8.00\n",
        "    else:\n",
        "        print(\"Código inválido!\")\n",
        "    if preço != 0:\n",
        "        quantidade = int(input(\"Quantidade: \"))\n",
        "        apagar = apagar + (preço * quantidade)\n",
        "print(f\"Total a pagar R${apagar:8.2f}\")"
      ]
    },
    {
      "cell_type": "markdown",
      "metadata": {
        "id": "b7AhmhsA_AYM"
      },
      "source": [
        "13. Escreva um programa que calcule o quadrado e o cubo dos números de 0 a 10, e imprima os valores em forma de tabela. Número | Quadrado | Cubo"
      ]
    },
    {
      "cell_type": "code",
      "execution_count": null,
      "metadata": {
        "id": "N1unGmX-_AYM"
      },
      "outputs": [],
      "source": [
        "n = 1\n",
        "P = 0\n",
        "I = 0\n",
        "while n <= 10:\n",
        "a = int(input())\n",
        "n = n + 1\n",
        "if a % 2 == 0:\n",
        " a = P\n",
        "P = P + 1\n",
        "else:\n",
        " a = I\n",
        "I = I + 1\n",
        "\n",
        "print(\"A qtd de números pares é: \", P)\n",
        "print(\"A qtd de números ímpares é: \", I) "
      ]
    },
    {
      "cell_type": "markdown",
      "metadata": {
        "id": "jCf-fj2x_AYM"
      },
      "source": [
        "14. Um funcionário de uma empresa recebe, anualmente, aumento salarial. Sabe-se que:\n",
        "\n",
        "- Esse funcionário foi contratado em 2005, com salário inicial de R\\\\$ 1.000,00.\n",
        "- Em 2006, ele recebeu aumento de 1,5% sobre seu salário inicial.\n",
        "- A partir de 2007 (inclusive), os aumentos salariais sempre corresponderam ao dobro do percentual do ano anterior.\n",
        "\n",
        "Faça um programa que determine o salário atual desse funcionário."
      ]
    },
    {
      "cell_type": "code",
      "execution_count": null,
      "metadata": {
        "id": "8es2ezIP_AYM"
      },
      "outputs": [],
      "source": [
        "salario = float(input(\"Digite o salário inicial do funcionário em 1995: \"))\n",
        "ano = 1995\n",
        "ano_atual = int(input(\"Digite em que ano estamos: \"))\n",
        "aumento = 1.5 / 100  # ? 1.5%\n",
        "\n",
        "while ano < ano_atual:\n",
        "    ano += 1\n",
        "    salario *= 1 + aumento\n",
        "    aumento *= 2\n",
        "\n",
        "print(f\"O salario em {ano} é de R$ {salario:.2f}\")"
      ]
    },
    {
      "cell_type": "markdown",
      "metadata": {
        "id": "1huvPOB8_AYN"
      },
      "source": [
        "15. Foi feita uma pesquisa para determinar o índice de mortalidade infantil em certo período. Faça um programa que:\n",
        "\n",
        "- Leia o número de crianças nascidas no período;\n",
        "- Identifique o sexo (M ou F) e o tempo de vida de cada criança nascida.\n",
        "\n",
        "O programa deve calcular e mostrar:\n",
        "\n",
        "- A porcentagem de crianças do sexo feminino mortas no período;\n",
        "- A porcentagem de crianças do sexo masculino mortas no período;\n",
        "- A porcentagem de crianças que viveram 24 meses ou menos no período."
      ]
    },
    {
      "cell_type": "code",
      "execution_count": null,
      "metadata": {
        "id": "8OxoHerv_AYN"
      },
      "outputs": [],
      "source": [
        "int main(){\n",
        "\n",
        "int numerocriancas, mesesvida, contcrianca = 0, contcriancamasculino = 0, contmenos24 = 0;\n",
        "float porcentagemmortas, porcentagemmasculinomortas, porcentagemmenores24;\n",
        "char sexo[10];\n",
        "\n",
        "scanf(\"%d\",&numerocriancas);\n",
        "scanf(\"%s\",sexo);\n",
        "scanf(\"%d\",&mesesvida);\n",
        "\n",
        "    while (strcmp(sexo,\"VAZIO\") != 0){\n",
        "        contcrianca++;\n",
        "\n",
        "        if (strcmp(sexo,\"MASCULINO\") == 0){\n",
        "            contcriancamasculino++;\n",
        "        }\n",
        "\n",
        "        if (mesesvida <= 24){\n",
        "            contmenos24++;\n",
        "        }\n",
        "\n",
        "        scanf(\"%s\",sexo);\n",
        "        scanf(\"%d\",&mesesvida);\n",
        "    }\n",
        "\n",
        "    porcentagemmortas = (float) (contcrianca * 100) / numerocriancas;\n",
        "    porcentagemmasculinomortas =  (float) (contcriancamasculino * 100) / numerocriancas;\n",
        "    porcentagemmenores24 = (float) (contmenos24 * 100) / numerocriancas;\n",
        "\n",
        "    printf(\"PORCENTAGEM DE MORTOS = %.2f\\n\",porcentagemmortas);\n",
        "    printf(\"PORCENTAGEM DE MASCULINOS MORTOS = %.2f\\n\",porcentagemmasculinomortas);\n",
        "    printf(\"PORCENTAGEM DE MENOS DE 24 MESES = %.2f\\n\",porcentagemmenores24);\n",
        "\n",
        "return 0;\n",
        "}"
      ]
    },
    {
      "cell_type": "markdown",
      "metadata": {
        "id": "mg27MhpV_AYN"
      },
      "source": [
        "16. Faça um programa que receba duas notas de seis alunos. Calcule e mostre:\n",
        "\n",
        "- A média aritmética das duas notas de cada aluno; e\n",
        "- A mensagem que está na tabela a seguir:\n",
        "- O total de alunos aprovados;\n",
        "- O total de alunos de exame;\n",
        "- O total de alunos reprovados;\n",
        "- A média da classe.\n",
        "\n",
        "| Média Aritmética | Situação       |\n",
        "|------------------|----------------|\n",
        "| Entre 0 e 29     | Reprovado      |\n",
        "| Entre 30 e 69    | Exame Especial |\n",
        "| Entre 70 e 100   | Aprovado       |\n"
      ]
    },
    {
      "cell_type": "code",
      "execution_count": null,
      "metadata": {
        "id": "tKD4Ozru_AYN"
      },
      "outputs": [],
      "source": [
        "nota2 = float(input('Segunda nota: '))\n",
        "\n",
        "    media = (nota1 + nota2) / 2\n",
        "\n",
        "    print('Media: ',media)\n",
        "    \n",
        "    if media<7.0:\n",
        "        print('Reprovado')\n",
        "    elif media<10:\n",
        "        print('Aprovado')\n",
        "    else:\n",
        "        print('Aprovado com Distinção!')"
      ]
    },
    {
      "cell_type": "markdown",
      "metadata": {
        "id": "gSYfm59a_AYN"
      },
      "source": [
        "17. Faça um programa para calcular a área de um triângulo e que não permita a entrada de dados inválidos, ou seja, medidas menores ou iguais a 0."
      ]
    },
    {
      "cell_type": "code",
      "execution_count": null,
      "metadata": {
        "id": "1QyX3kdO_AYO"
      },
      "outputs": [],
      "source": [
        "base   = input('Informe a base: ')\n",
        "altura = input('Informe a altura: ')\n",
        "area   = base * altura / 2.0\n",
        "print 'Area: ', area"
      ]
    },
    {
      "cell_type": "markdown",
      "metadata": {
        "id": "TcCFReuX_AYO"
      },
      "source": [
        "18. Faça um programa que leia um conjunto não determinado de valores e mostre o valor lido, seu quadrado, seu cubo e sua raiz quadrada. Finalize a entrada de dados com um valor negativo ou zero."
      ]
    },
    {
      "cell_type": "code",
      "execution_count": null,
      "metadata": {
        "id": "uHvS_2bU_AYO"
      },
      "outputs": [],
      "source": [
        "num1 = int(input('Digite um valor: '))\n",
        "num2 = int(input('Digite outro valor: '))\n",
        "\n",
        "print 'primeiro valor elevado ao segundo: ', num1**num2\n",
        "print 'primeiro valor vezes o segundo: ', num1 * num2\n",
        "print 'numero inverso do primeiro: ', 1.0/num1\n",
        "print 'soma do segundo número com a metade do primeiro: ', num2 + (num1 / 2.0)\n",
        "print 'valor oposto do segundo numero: ', num2 * -1"
      ]
    },
    {
      "cell_type": "markdown",
      "metadata": {
        "id": "3yuVUdbc_AYO"
      },
      "source": [
        "19. Faça um programa que leia um número não determinado de pares de valores [m,n], todos inteiros e positivos, um par de cada vez, e que calcule e mostre a soma de todos os números inteiros entre m e n (inclusive). A digitação de pares terminará quando m for maior ou igual a n."
      ]
    },
    {
      "cell_type": "code",
      "execution_count": null,
      "metadata": {
        "id": "P-gaFiOQ_AYO"
      },
      "outputs": [],
      "source": [
        "float calc_media()\n",
        "{\n",
        " float soma, num, media, i;\n",
        "\n",
        " soma = 0;\n",
        " i = 0;\n",
        " num = 1;\n",
        "\n",
        " while(num != 0)\n",
        " \n",
        " print(\"Digite um numero positivo\")\n",
        "\n",
        "\n",
        " while(num < 0)\n",
        " \n",
        " printf(\"\\nNumero invalidao!\")\n",
        " print(\"Digite um numero positivo novamente\")\n",
        " \n",
        " \n",
        "\n",
        " soma += num\n",
        "media = soma/(i-1);\n",
        "\n",
        "\n",
        " float r\n",
        "\n",
        " r = calc_media()\n",
        "\n",
        " print(\"O valor medio digitado foi\" media)"
      ]
    },
    {
      "cell_type": "markdown",
      "metadata": {
        "id": "53RB3058_AYP"
      },
      "source": [
        "20. Faça um programa que receba vários números, calcule e mostre:\n",
        "\n",
        "    - A soma dos números digitados;\n",
        "    - A quantidade de números digitados;\n",
        "    - A média dos números digitados;\n",
        "    - O maior número digitado;\n",
        "    - O menor número digitado;\n",
        "    - A média dos números pares;\n",
        "    - A porcentagem dos números ímpares entre todos os números digitados.\n",
        "\n",
        "Finalize a entrada de dados com a digitação do número 0."
      ]
    },
    {
      "cell_type": "code",
      "execution_count": null,
      "metadata": {
        "id": "5n1vBLwP_AYQ"
      },
      "outputs": [],
      "source": [
        "valor = input('Digite um número menor que 20 que seja positivo: ')\n",
        "if not valor.isdigit():\n",
        "    print('Digite apenas números positivos!')\n",
        "else:\n",
        "    maximo = max(valor)\n",
        "    minimo = min(valor)\n",
        "    soma = 0\n",
        "    for valor in valor\n",
        "        soma += int(valor)\n",
        "    print('O maior valor é:',maximo)\n",
        "    print('O menor valor é:',minimo)\n",
        "    print('A soma é:',soma)\n",
        "    print('A média é:',media)"
      ]
    }
  ],
  "metadata": {
    "kernelspec": {
      "display_name": "Python 3",
      "language": "python",
      "name": "python3"
    },
    "language_info": {
      "codemirror_mode": {
        "name": "ipython",
        "version": 3
      },
      "file_extension": ".py",
      "mimetype": "text/x-python",
      "name": "python",
      "nbconvert_exporter": "python",
      "pygments_lexer": "ipython3",
      "version": "3.7.4"
    },
    "colab": {
      "provenance": [],
      "include_colab_link": true
    }
  },
  "nbformat": 4,
  "nbformat_minor": 0
}