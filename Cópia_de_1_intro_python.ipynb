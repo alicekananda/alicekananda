{
  "cells": [
    {
      "cell_type": "markdown",
      "metadata": {
        "id": "view-in-github",
        "colab_type": "text"
      },
      "source": [
        "<a href=\"https://colab.research.google.com/github/alicekananda/alicekananda/blob/main/C%C3%B3pia_de_1_intro_python.ipynb\" target=\"_parent\"><img src=\"https://colab.research.google.com/assets/colab-badge.svg\" alt=\"Open In Colab\"/></a>"
      ]
    },
    {
      "cell_type": "markdown",
      "metadata": {
        "id": "BOdzEUizxnzM"
      },
      "source": [
        "# Bem-Vindo ao Mundo Python!"
      ]
    },
    {
      "cell_type": "markdown",
      "metadata": {
        "id": "DhxBB50cxnzR"
      },
      "source": [
        "## Variáveis e Tipos\n",
        "* Variáveis são **Locais de Memória**;\n",
        "* Os nomes de variáveis devem ser **mnemônicos**, ou seja, de **fácil memorização**;\n",
        "* Variáveis em Python são **\"Case-sensitive\"** e devem escritas com letras minúsculas, sem qualquer tipo de acentuação gráfica;\n",
        "* Nomes compostos de variáveis devem ser separados por subtraço, por exemplo: nome_variavel_composta;\n",
        "* Python é uma linguagem *dinamicamente tipada*, logo, não informamos o tipo de dados durante a declaração de cada variável;\n",
        "\n",
        "### Tipos de Dados Padrão\n",
        "Os tipos de dados primitivos do Python podem ser classificados como: numéricos, sequências, conjuntos e mapeamentos.\n",
        "\n",
        "*Tipos Numéricos*\n",
        "\n",
        "| Nome    | Descrição                    |  Versão               |\n",
        "|:--------|:-----------------------------|:----------------------|\n",
        "| int     | Números Inteiros             | Todas                 |\n",
        "| long    | Números inteiros Longos      | Python 2.x (Somente)  |\n",
        "| float   | Números de Ponto Flutuante   | Todas                 |\n",
        "| complex | Números Complexos            | Todas                 |\n",
        "\n",
        "*Sequências*\n",
        "\n",
        "| Nome         | Descrição                                                  |  Versão               |\n",
        "|:-------------|:-----------------------------------------------------------|:----------------------|\n",
        "| str          | Cadeia de Caracteres (String)                              | Todas                 |\n",
        "| bytes        | Sequência de números inteiros no intervalo de 0 a 255      | Python 3.x (Somente)  |\n",
        "| byte array   | Semelhante ao tipo bytes, porém, mutáveis                  | Python 3.x (Somente)  |\n",
        "| list         | Lista de itens geralmente homogêneos e mutáveis            | Todas                 |\n",
        "| tuple        | Sequência de itens heterogêneos e imutáveis                | Todas                 |\n",
        "\n",
        "*Conjuntos*\n",
        "\n",
        "| Nome       | Descrição                               |  Versão                |\n",
        "|:-----------|:----------------------------------------|:-----------------------|\n",
        "| set        | coleção não ordenada de objetos únicos  | Python 2.6 ou Superior |\n",
        "| frozen set | Semelhante ao tipo set, porém, imutável | Python 2.6 ou Superior |\n",
        "\n",
        "*Mapeamentos*\n",
        "\n",
        "| Nome       | Descrição                               |  Versão                |\n",
        "|:-----------|:----------------------------------------|:-----------------------|\n",
        "| dict       | Dicionários ou Array Associativos       | Todas                  |\n",
        "\n",
        "\n",
        "#### Objetos Mutáveis X Objetos Imutáveis\n",
        "De modo geral, os tipos de dados em Python podem ser diferenciados como mutáveis e imutáveis.\n",
        "\n",
        "- **Objetos Mutáveis:** o conteúdo pode ser alterado após sua criação;\n",
        "- **Objetos Imutáveis:** o conteúdo **não pode ser alterado** após sua criação;\n",
        "\n",
        "| Tipos Mutáveis       | Tipos Imutáveis                         |\n",
        "|:---------------------|:----------------------------------------|\n",
        "| array                | int, float, complex                     |\n",
        "| bytearray            | str                                     |\n",
        "| list                 | bytes                                   |\n",
        "| set                  | tuple                                   |\n",
        "| dict                 | frozenset                               |\n",
        "| -                    | bool                                    |"
      ]
    },
    {
      "cell_type": "code",
      "execution_count": null,
      "metadata": {
        "id": "ZU1B4LPgxnzV"
      },
      "outputs": [],
      "source": [
        "# CONVERSÃO DE TIPO\n",
        "# Aprendendo Conversão de Tipo Com Exemplos\n",
        "\n",
        "# Números Inteiros\n",
        "valor_int_1 = int(2.7) \n",
        "print(valor_int_1) # Saída: 2   \n",
        "\n",
        "valor_int_2 = int(-3.9)\n",
        "print(valor_int_2) # Saída: -3   \n",
        "\n",
        "valor_int_3 = int(\"2\")\n",
        "print(valor_int_3) # Saída: 2  \n",
        "\n",
        "\n",
        "# Números de Ponto Flutuante\n",
        "valor_float_1 = float(7)\n",
        "print(valor_float_1) # Saída: 7.0\n",
        "\n",
        "valor_float_2 = float(\"4.5\")\n",
        "print(valor_float_2) # Saída: 4.5\n",
        "\n",
        "valor_float_4 = float(\"2.7E-2\")\n",
        "print(valor_float_4) # Saída: 0.027\n",
        "\n",
        "valor_float_5 = float(False)\n",
        "print(valor_float_5) # Saída: 0.0\n",
        "\n",
        "valor_float_6 = float(True)\n",
        "print(valor_float_6) # Saída: 1.0\n",
        "\n",
        "\n",
        "# Cadeia de Caracteres\n",
        "valor_string_1 = str(4.5)\n",
        "print(valor_string_1) # Saída: 4.5\n",
        "\n",
        "valor_string_2 = str([1, 2, 3, 4, 5])\n",
        "print(valor_string_2) # Saída: \"[1, 2, 3, 4, 5]\"\n",
        "\n",
        "\n",
        "# Tipos Lógicos (Booleanos)\n",
        "valor_bool_1 = bool(0)\n",
        "print(valor_bool_1) # Saída: False\n",
        "\n",
        "valor_bool_2 = bool(1)\n",
        "print(valor_bool_2) # Saída: True\n",
        "\n",
        "valor_bool_3 = bool([])\n",
        "print(valor_bool_3) # Saída: False - Lista Vazia\n",
        "\n",
        "valor_bool_4 = bool([False])\n",
        "print(valor_bool_4) # Saída: True - Lista Não Vazia\n",
        "\n",
        "valor_bool_5 = bool({})\n",
        "print(valor_bool_5) # Saída: False - Dicionário Vazio, o mesmo para Tupla\n",
        "\n",
        "valor_bool_6 = bool(\"\")\n",
        "print(valor_bool_6) # Saída: False - String Vazia\n",
        "\n",
        "valor_bool_7 = bool(\" \")\n",
        "print(valor_bool_7) # Saída: True - String Não Vazia\n",
        "\n",
        "valor_bool_8 = bool(None)\n",
        "print(valor_bool_8) # Saída: False\n",
        "\n",
        "valor_bool_9 = bool(len)\n",
        "print(valor_bool_9) # Saída: True\n",
        "\n",
        "# Listas e Conjuntos\n",
        "conjunto = set([1, 2])\n",
        "lista = list(conjunto)\n",
        "print(conjunto) # Saída: {1, 2}\n",
        "print(lista)    # Saída: [1, 2]\n",
        "\n",
        "valor_lista_1 = list({0: \"Python\", 1: \"R\"}) # dict: Lista de chaves\n",
        "print(valor_lista_1) # Saída: [0, 1]\n",
        "\n",
        "tupla = tuple(lista)\n",
        "print(tupla) # Saída: (1, 2)\n",
        "\n",
        "valor_lista_2 = list(\"ABC\")\n",
        "print(valor_lista_2) # Saída: ['A', 'B', 'C']"
      ]
    },
    {
      "cell_type": "markdown",
      "metadata": {
        "id": "FbMrB_6DxnzY"
      },
      "source": [
        "## Exercício 1\n",
        "*Calculando o IMC*\n",
        "\n",
        "O Índice de Massa Corporal (IMC) é uma medida internacional usada para calcular se uma pessoa está em seu peso ideal.\n",
        "O cálculo do IMC é determinado pela divisão da massa do indivíduo em quilogramas pelo quadrado de sua altura em metros.\n",
        "\n",
        "\n",
        "\n",
        "$$IMC=\\frac{massa}{(altura * altura)}$$\n",
        "\n",
        "\n",
        "\n",
        "Escreva um programa que leia do usuário sua altura e peso e calcule o seu IMC.\n"
      ]
    },
    {
      "cell_type": "code",
      "execution_count": null,
      "metadata": {
        "id": "X6Z71LaqxnzZ"
      },
      "outputs": [],
      "source": [
        "# TODO: Complete o Código Abaixo\n",
        "altura = input('Altura: ')\n",
        "peso = input('  Peso: ')\n",
        "\n",
        "\n",
        "print(\"   IMC: \")"
      ]
    },
    {
      "cell_type": "markdown",
      "metadata": {
        "id": "JgfUq_uexnza"
      },
      "source": [
        "## Operadores\n",
        "\n",
        "*Operadores Numéricos*\n",
        "\n",
        "| Operador | Descrição       |\n",
        "|:---------|:----------------|\n",
        "| +        | Adição          |\n",
        "| -        | Subtração       |\n",
        "| *        | Multiplicação   |\n",
        "| /        | Divisão         |\n",
        "| **       | Expoente        |\n",
        "| %        | Módulo          |\n",
        "| //       | Divisão de Piso |\n",
        "\n",
        "\n",
        "*Operadores de Comparação*\n",
        "\n",
        "| Operador | Descrição       |\n",
        "|:---------|:----------------|\n",
        "| ==       | Igual           |\n",
        "| !=       | Diferente       |\n",
        "| >        | Maior           |\n",
        "| <        | Menor           |\n",
        "| >=       | Maior Igual     |\n",
        "| <=       | Menor Igual     |\n",
        "\n",
        "\n",
        "*Operadores Lógicos*\n",
        "\n",
        "| Operador | Descrição       |\n",
        "|:---------|:----------------|\n",
        "| and      | AND lógico      |\n",
        "| or       | OR lógico       |\n",
        "| not      | NOT lógico      |\n",
        "\n",
        "*Caracteres Especiais*\n",
        "\n",
        "| Operador | Descrição       |\n",
        "|:---------|:----------------|\n",
        "| #        | Comentário      |\n",
        "| \\n       | Nova Linha      |\n"
      ]
    },
    {
      "cell_type": "markdown",
      "metadata": {
        "id": "YsJK40nnxnzb"
      },
      "source": [
        "## Exercícios"
      ]
    },
    {
      "cell_type": "markdown",
      "metadata": {
        "id": "fZLTggZmxnzc"
      },
      "source": [
        "1. Escreva um algoritmo que imprima na tela: Olá Mundo!"
      ]
    },
    {
      "cell_type": "code",
      "execution_count": null,
      "metadata": {
        "id": "6ik0GbdKxnzd"
      },
      "outputs": [],
      "source": [
        "print(\"Olá Mundo!\")"
      ]
    },
    {
      "cell_type": "markdown",
      "metadata": {
        "id": "qt61i0Ofxnzd"
      },
      "source": [
        "2. Escreva um programa que imprima seu nome na tela."
      ]
    },
    {
      "cell_type": "code",
      "execution_count": null,
      "metadata": {
        "id": "t-JnZOXlxnzf"
      },
      "outputs": [],
      "source": [
        "print(\"Alice Kananda\")"
      ]
    },
    {
      "cell_type": "markdown",
      "metadata": {
        "id": "FAb9tvN6xnzf"
      },
      "source": [
        "3. O que o código a seguir imprime?\n",
        "\n",
        "```python\n",
        "print(\"*\\n**\\n***\\n****\\n*****\")\n",
        "```"
      ]
    },
    {
      "cell_type": "code",
      "execution_count": null,
      "metadata": {
        "id": "HyQu7wxnxnzg"
      },
      "outputs": [],
      "source": [
        "*\n",
        "**\n",
        "***\n",
        "****\n",
        "*****"
      ]
    },
    {
      "cell_type": "markdown",
      "metadata": {
        "id": "Q8sZvpSBxnzh"
      },
      "source": [
        "4. O que aparece na janela do console, quando cada uma das instruções abaixo são executadas, para: x = 2 e y = 3? Execute cada uma das linhas abaixos e, se necessário, faça os devidos ajustes no código.\n",
        "    1. *print(“x = ” + x);*\n",
        "    2. *print(“O valor de x + x é ” + (x + x));*\n",
        "    3. *print(“x = ”);*\n",
        "    4. *print((x + y) + “ = “ + (y + x));*\n"
      ]
    },
    {
      "cell_type": "code",
      "execution_count": null,
      "metadata": {
        "id": "cDfK9nsaxnzh"
      },
      "outputs": [],
      "source": [
        "x = input(\"Digite o valor de x: \")\n",
        "y = input(\"Digite o valor de y: \")\n",
        "\n",
        "resultadox = (x + x)\n",
        "resultadoyx = (x + y) + (y + x)\n",
        "print(\"O valor de x é =\" + x)\n",
        "print(\"O valor de x + x é = {} \".format (resultadox) )\n",
        "print(\"O valor de (x+y) + (y+x) é = {}\".format (resultadoyx))"
      ]
    },
    {
      "cell_type": "markdown",
      "metadata": {
        "id": "S2ZvJE6cxnzi"
      },
      "source": [
        "5. Escreva um algoritmo que imprima na tela a seguinte mensagem:\n",
        "\n",
        "> A programação é aprendida escrevendo programas - \n",
        "> Brian Kernighan\n"
      ]
    },
    {
      "cell_type": "code",
      "execution_count": null,
      "metadata": {
        "id": "Geb7H7A1xnzi"
      },
      "outputs": [],
      "source": [
        "print(\"A programação é aprendida escrevendo programas - Brian Kernighan\")"
      ]
    },
    {
      "cell_type": "markdown",
      "metadata": {
        "id": "L31-5uS0xnzi"
      },
      "source": [
        "6. Crie um algoritmo que imprima o produto entre os números 25 e 27"
      ]
    },
    {
      "cell_type": "code",
      "execution_count": null,
      "metadata": {
        "id": "RIenEFqZxnzi"
      },
      "outputs": [],
      "source": [
        "n1 = 25\n",
        "n2 = 27\n",
        "produto = n1 * n2\n",
        "\n",
        "print(produto)"
      ]
    },
    {
      "cell_type": "markdown",
      "metadata": {
        "id": "IZodzRukxnzj"
      },
      "source": [
        "7. Crie um algoritmo que imprima a média aritmética entre os números 4, 12, 15."
      ]
    },
    {
      "cell_type": "code",
      "execution_count": null,
      "metadata": {
        "id": "37LIdPbOxnzj"
      },
      "outputs": [],
      "source": [
        "media_aritmetica = ( 4 + 12 + 15) / 3 \n",
        "\n",
        "print(media_aritmetica)"
      ]
    },
    {
      "cell_type": "markdown",
      "metadata": {
        "id": "57VsL9Dgxnzj"
      },
      "source": [
        "8. Faça um programa que leia um número inteiro e mostre-o na tela da seguinte forma: \n",
        "\n",
        "> O número inteiro digitado foi 4."
      ]
    },
    {
      "cell_type": "code",
      "execution_count": null,
      "metadata": {
        "id": "DTKsCPU7xnzj"
      },
      "outputs": [],
      "source": [
        "n = input(\"Digite un número inteiro: \")\n",
        "\n",
        "print(\"O numero inteiro digitado foi: \" +  n)"
      ]
    },
    {
      "cell_type": "markdown",
      "metadata": {
        "id": "xT81SGqBxnzk"
      },
      "source": [
        "9. Faça um programa que leia e imprima dois números inteiros na tela."
      ]
    },
    {
      "cell_type": "code",
      "execution_count": null,
      "metadata": {
        "id": "G3c56SeOxnzk"
      },
      "outputs": [],
      "source": [
        "n1 = input(\"Digite o primeiro número inteiro: \")\n",
        "n2 = input(\"Digite o segundo número inteiro: \")\n",
        "\n",
        "print(\"Os números inteiros digitados foram: \" + n1 , n2)"
      ]
    },
    {
      "cell_type": "markdown",
      "metadata": {
        "id": "kboikcgDxnzk"
      },
      "source": [
        "10. Faça um programa que leia um número inteiro e imprima seu número sucessor e antecessor."
      ]
    },
    {
      "cell_type": "code",
      "execution_count": null,
      "metadata": {
        "id": "hj5FFwYjxnzk"
      },
      "outputs": [],
      "source": [
        "n = input(\"Digite um número inteiro: \")\n",
        "sucessor = n + 1\n",
        "antecessor = n - 1\n",
        "\n",
        "print( \"O sucessor do número inserido é: \" + sucessor)\n",
        "print( \"O antecessor do número inserido é: \" + antecessor)"
      ]
    },
    {
      "cell_type": "markdown",
      "metadata": {
        "id": "n4uc4unXxnzk"
      },
      "source": [
        "11. Faça um programa que leia o nome, endereço e telefone de um usuário e imprima na tela."
      ]
    },
    {
      "cell_type": "code",
      "execution_count": null,
      "metadata": {
        "id": "gc4qxerixnzl"
      },
      "outputs": [],
      "source": [
        "nome = input(\"Insira seu nome: \")\n",
        "endereco = input(\"Insira seu endereço: \")\n",
        "fone = input(\"Insira seu telefone de contato: \")\n",
        "\n",
        "print(nome + '' + endereco + '' + fone)"
      ]
    },
    {
      "cell_type": "markdown",
      "metadata": {
        "id": "OaZH8nZsxnzl"
      },
      "source": [
        "12. Faça um programa que leia e multiplique dois números inteiros."
      ]
    },
    {
      "cell_type": "code",
      "execution_count": null,
      "metadata": {
        "id": "GlwmKof9xnzl"
      },
      "outputs": [],
      "source": [
        "n1 = int (input(\"Digite o valor inteiro do primeiro número: \"))\n",
        "n2 = int (input(\"Digite o valor inteiro do segundo número: \"))\n",
        "result = n1 * n2\n",
        "\n",
        "print(result)"
      ]
    },
    {
      "cell_type": "markdown",
      "metadata": {
        "id": "DR_uBImIxnzl"
      },
      "source": [
        "13. Faça um programa que leia um número real e imprima a terça parte deste número."
      ]
    },
    {
      "cell_type": "code",
      "execution_count": null,
      "metadata": {
        "id": "OsMdY4OJxnzl"
      },
      "outputs": [],
      "source": [
        "n = float(input('Digite um número: '))\n",
        "terca = n * (1/3)\n",
        "\n",
        "print('A terça parte de {:.2f} é {:.2f}'.format(n, terca))"
      ]
    },
    {
      "cell_type": "markdown",
      "metadata": {
        "id": "g9rTTOuDxnzl"
      },
      "source": [
        "14. Faça um programa que leia dois números inteiros e imprima o dividendo, divisor, quociente e resto da divisão"
      ]
    },
    {
      "cell_type": "code",
      "execution_count": null,
      "metadata": {
        "id": "nfYWvpZ-xnzl"
      },
      "outputs": [],
      "source": [
        "n1 = int(input(\"Insira o primeiro numero: \"))\n",
        "n2 = int(input(\"Insira o segundo numero: \"))\n",
        "dividendo = n1\n",
        "divisor = n2\n",
        "quociente = dividendo/divisor\n",
        "resto = dividendo % divisor\n",
        "\n",
        "print(\"Dividendo e {} divisor e {}  quociente e {} resto e {}\".format(dividendo, divisor, quociente, resto))"
      ]
    },
    {
      "cell_type": "markdown",
      "metadata": {
        "id": "E1o8AnLaxnzm"
      },
      "source": [
        "15. Escreva um programa que solicite do usuário dois números, e imprima o resultado da soma, subtração, multiplicação e divisão."
      ]
    },
    {
      "cell_type": "code",
      "execution_count": null,
      "metadata": {
        "id": "4wUfC2byxnzm"
      },
      "outputs": [],
      "source": [
        "n1 = float(input(\"Digite o primeiro número: \"))\n",
        "n2 = float(input(\"Digite o segundo número: \"))\n",
        "operação = input(\"Digite a operação a realizar (+,-,* ou /):\")\n",
        "if operação == \"+\":\n",
        "    resultado = n1 + n2\n",
        "elif operação == \"-\":\n",
        "    resultado = n1 - n2\n",
        "elif operação == \"*\":\n",
        "    resultado = n1 * n2\n",
        "elif operação == \"/\":\n",
        "    resultado = n1 / n2\n",
        "else:\n",
        "    print(\"Operação inválida!\")\n",
        "    resultado = 0\n",
        "print(\"Resultado: \", resultado)"
      ]
    },
    {
      "cell_type": "markdown",
      "metadata": {
        "id": "AkgQC8VFxnzm"
      },
      "source": [
        "16. Faça um programa que leia quatro números inteiros, calcule e mostre a soma desses números."
      ]
    },
    {
      "cell_type": "code",
      "execution_count": null,
      "metadata": {
        "id": "PxvP66odxnzm"
      },
      "outputs": [],
      "source": [
        "n1 = int(input('Digite um numero: '))\n",
        "n2 = int(input('Digite outro numero: '))\n",
        "n3 = int(input('Digite outro numero: '))\n",
        "n4 = int(input('Digite outro numero: '))\n",
        "\n",
        "print(f'A soma os números é igual a {n1+n2+n3+n4}' )"
      ]
    },
    {
      "cell_type": "markdown",
      "metadata": {
        "id": "RnnpkjFHxnzn"
      },
      "source": [
        "17. Faça um programa que receba três notas, calcule e mostre a média aritmética."
      ]
    },
    {
      "cell_type": "code",
      "execution_count": null,
      "metadata": {
        "id": "NDGdGQk3xnzn"
      },
      "outputs": [],
      "source": [
        "nota1 = float(input(\"Insira a primeira nota: \"))\n",
        "nota2 = float(input(\"Insira a segunda nota: \"))\n",
        "nota3 = float(input(\"Insira a terceira nota: \"))\n",
        "medAritimetica = (nota1 + nota2 + nota3) / 3\n",
        "\n",
        "print(\" Média aritmética = \", medAritimetica)"
      ]
    },
    {
      "cell_type": "markdown",
      "metadata": {
        "id": "RYrHETHrxnzn"
      },
      "source": [
        "18. Faça um programa que receba três notas e seus respectivos pesos, calcule e mostre a média ponderada."
      ]
    },
    {
      "cell_type": "code",
      "execution_count": null,
      "metadata": {
        "id": "X5yyIT6Dxnzn"
      },
      "outputs": [],
      "source": [
        "nota1 = float(input(\"Insira a primeira nota: \"))\n",
        "nota2 = float(input(\"Insira a segunda nota: \"))\n",
        "nota3 = float(input(\"Insira a terceira nota: \"))\n",
        "peso1 = float(input(\"Insira o primeiro peso: \"))\n",
        "peso2 = float(input(\"Insira o segundo peso: \"))\n",
        "peso3 = float(input(\"Insira o terceiro peso: \"))\n",
        "mediaPonderada = ((nota1 * peso1) + (nota2 * peso2) + (nota3 * peso3)/(peso1 + peso2 + peso3))\n",
        "\n",
        "print(\"A média ponderada é: \", mediaPonderada)"
      ]
    },
    {
      "cell_type": "markdown",
      "metadata": {
        "id": "AGwJ6XI4xnzn"
      },
      "source": [
        "19. Faça um programa que receba o salário de um funcionário, calcule e mostre o novo salário, sabendo-se que este sofreu um aumento de 25%."
      ]
    },
    {
      "cell_type": "code",
      "execution_count": null,
      "metadata": {
        "id": "MPYTECXnxnzn"
      },
      "outputs": [],
      "source": [
        "salario_atual = float(input(\"Digite o salário atual: \"))\n",
        "novo_salario = (salario_atual * 0.25) + salario_atual\n",
        "\n",
        "print(\"Novo salário é igual a: \", novo_salario)"
      ]
    },
    {
      "cell_type": "markdown",
      "metadata": {
        "id": "XMbBZVWZxnzn"
      },
      "source": [
        "20. Faça um programa que receba o salário de um funcionário e o percentual de aumento, calcule e mostre o valor do aumento e o novo salário. "
      ]
    },
    {
      "cell_type": "code",
      "execution_count": null,
      "metadata": {
        "id": "a3_ie908xnzo"
      },
      "outputs": [],
      "source": [
        "salario_atual = float(input(\"Digite o salário atual:\"))\n",
        "percentual = float(input(\"Digite a porcentagem de aumento:\"))\n",
        "aumento = salario_atual * percentual/ 100\n",
        "novo_salario = salario_atual + aumento\n",
        "\n",
        "print(\"O aumento foi de R$ %7.2f\" % aumento)\n",
        "print(\"O novo salário é:  R$ %7.2f\" % novo_salario)"
      ]
    },
    {
      "cell_type": "markdown",
      "metadata": {
        "id": "ZIyOrEJwxnzo"
      },
      "source": [
        "21. Faça um programa que receba o salário base de um funcionário, calcule e mostre o salário a receber, sabendo-se que o funcionário tem gratificação de 5% sobre o salário base e paga imposto de 7% também sobre o salário base."
      ]
    },
    {
      "cell_type": "code",
      "execution_count": null,
      "metadata": {
        "id": "vJe7RHGKxnzp"
      },
      "outputs": [],
      "source": [
        "salario_base = float(input(\"Digite o salário: \"))\n",
        "gratificacao = salario_base *  0.05\n",
        "imposto = salario_base * 0.07\n",
        "salario_final = (salario_base + gratificacao - imposto)\n",
        "\n",
        "print(salario_final)"
      ]
    },
    {
      "cell_type": "markdown",
      "metadata": {
        "id": "IyLJo9B1xnzp"
      },
      "source": [
        "22. Faça um programa que receba o salário base de um funcionário, calcule e mostre seu salário a receber, sabendo-se que o funcionário tem gratificação de R$ 50,00 e paga imposto de 10% sobre o salário base."
      ]
    },
    {
      "cell_type": "code",
      "execution_count": null,
      "metadata": {
        "id": "a3ECBdsOxnzp"
      },
      "outputs": [],
      "source": [
        "salario_atual = float(input(\"Insira o salário: \"))\n",
        "gratificacao = 50\n",
        "imposto =  salario_atual * 0.1\n",
        "salario_final =  (salario_atual - imposto) + gratificacao\n",
        "\n",
        "print(salario_final)"
      ]
    },
    {
      "cell_type": "markdown",
      "metadata": {
        "id": "BRbFjV5rxnzp"
      },
      "source": [
        "23. Faça um programa que receba o valor de um depósito e o valor da taxa de juros, calcule e mostre o valor do rendimento e o valor total depois do rendimento."
      ]
    },
    {
      "cell_type": "code",
      "execution_count": null,
      "metadata": {
        "id": "1jALzAp_xnzq"
      },
      "outputs": [],
      "source": [
        "deposito = float(input(\"Digite o valor do depósito: \"))\n",
        "taxa = float(input(\"Digite o valor da taxa: \"))\n",
        "rendimento = deposito * (taxa / 100)\n",
        "total = deposito + rendimento\n",
        "\n",
        "print(\"O valor do rendimento é: \" ,  rendimento)\n",
        "print(\"O valor total é igial a: \", total)"
      ]
    },
    {
      "cell_type": "markdown",
      "metadata": {
        "id": "LVODEd_Jxnzq"
      },
      "source": [
        "24. Faça um programa que calcule e mostre a área de um triângulo. Sabe-se que: \n",
        "> Área = (base * altura) / 2."
      ]
    },
    {
      "cell_type": "code",
      "execution_count": null,
      "metadata": {
        "id": "G1W6vg6Txnzq"
      },
      "outputs": [],
      "source": [
        "base =  float(input(\"Informe a basa do triângulo: \"))\n",
        "altura = float(input(\"Informe a altura do trângulo: \"))\n",
        "area = (base * altura) / 2\n",
        "\n",
        "print(\"A área do triângulo é: \", area)"
      ]
    },
    {
      "cell_type": "markdown",
      "metadata": {
        "id": "4ahwfgN8xnzq"
      },
      "source": [
        "25. Escreva um programa que receba como entrada o raio de um círculo e imprima o diâmetro, a circunferência e a área. Para isso, utilize as fórmulas: diâmetro = 2r; circunferência = 2πr, área = πr²."
      ]
    },
    {
      "cell_type": "code",
      "execution_count": null,
      "metadata": {
        "id": "_OmGHd0Sxnzq"
      },
      "outputs": [],
      "source": [
        "raio = float(input(\"Informe o raio: \"))\n",
        "circunferencia = 2 * 3.14 * raio\n",
        "area = 3.14 * (raio * raio)\n",
        "diametro = raio * 2\n",
        "\n",
        "print(\"O diâmetro é: \", diametro)\n",
        "print(\"A circunferência é: \", circunferencia)\n",
        "print(\" Area igual a: \", area)"
      ]
    },
    {
      "cell_type": "markdown",
      "metadata": {
        "id": "X8NWJwHTxnzq"
      },
      "source": [
        "26. Faça um programa que receba um número positivo e maior que zero, calcule e mostre:\n",
        "    1. o número digitado ao quadrado;\n",
        "    2. o número digitado ao cubo;\n",
        "    3. a raiz quadrada do número digitado.\n"
      ]
    },
    {
      "cell_type": "code",
      "execution_count": null,
      "metadata": {
        "id": "ZkEB6ce4xnzq"
      },
      "outputs": [],
      "source": [
        "from math import sqrt\n",
        "from tkinter import N\n",
        "\n",
        "n = float(input(\"Digite um número maior que zero: \"))\n",
        "quadrado = 2 * n\n",
        "cubo = 3 * n\n",
        "raiz = sqrt(n)\n",
        "\n",
        "print(\"O quadrado do número: \", quadrado)\n",
        "print(\"O cubo do número: \", cubo)\n",
        "print(\"A raiz: \", raiz)"
      ]
    },
    {
      "cell_type": "markdown",
      "metadata": {
        "id": "UNBB09wMxnzr"
      },
      "source": [
        "27. Faça um programa que receba dois números maiores que zero, calcule e mostre um elevado ao outro."
      ]
    },
    {
      "cell_type": "code",
      "execution_count": null,
      "metadata": {
        "id": "WeY3eVbuxnzr"
      },
      "outputs": [],
      "source": [
        "n1 = float(input(\"Informe o primeiro número: \"))\n",
        "n2 = float(input(\"Informe o segundo número: \"))\n",
        "result = n1 ** n2\n",
        "\n",
        "print(\"O valor de um elevado ao outro é: \", result) "
      ]
    },
    {
      "cell_type": "markdown",
      "metadata": {
        "id": "pWRPo8CAxnzr"
      },
      "source": [
        "28. Sabe-se que: pé = 12 polegadas; 1 jarda = 3 pés e 1 milha = 1,760 jarda. Faça um programa que receba uma medida em pés, faça as conversões a seguir e mostre os resultados.\n",
        "    1. polegadas;\n",
        "    2. jardas;\n",
        "    3. milhas.\n"
      ]
    },
    {
      "cell_type": "code",
      "execution_count": null,
      "metadata": {
        "id": "BQgG-4U2xnzr"
      },
      "outputs": [],
      "source": [
        "n = float(input(\"Digite o número em pés: \"))\n",
        "polegadas = n * 12 \n",
        "jardas = n * 3 \n",
        "milhas = n * 1.760\n",
        "\n",
        "print(\"O valor em polegadas é: \", polegadas)\n",
        "print(\"O valor em jardas é: \", jardas)\n",
        "print(\"O valor em milhas é: \", milhas)"
      ]
    },
    {
      "cell_type": "markdown",
      "metadata": {
        "id": "kTkfaxNrxnzr"
      },
      "source": [
        "29. Escreva um programa que receba como entrada um número de 5 dígitos, separe o número em dígitos individuais e os imprima separados por 3 espaços cada um. Por exemplo, se o usuário digitar 42339, o programa deverá imprimir: 4    2    3    3.   Dica: utilize as operações de divisão e módulo para extrair cada dígito do número."
      ]
    },
    {
      "cell_type": "code",
      "execution_count": null,
      "metadata": {
        "id": "AxF0gAMTxnzr"
      },
      "outputs": [],
      "source": [
        "import math\n",
        "n = int(input(\"Digite o número de 5 dígitos: \"))\n",
        "x = [(n//(10**i))%10 for i in range(math.ceil(math.log(n, 10))-1, -1, -1)]\n",
        "\n",
        "print(x)"
      ]
    }
  ],
  "metadata": {
    "kernelspec": {
      "display_name": "Python 3",
      "language": "python",
      "name": "python3"
    },
    "language_info": {
      "codemirror_mode": {
        "name": "ipython",
        "version": 3
      },
      "file_extension": ".py",
      "mimetype": "text/x-python",
      "name": "python",
      "nbconvert_exporter": "python",
      "pygments_lexer": "ipython3",
      "version": "3.7.4"
    },
    "colab": {
      "provenance": [],
      "include_colab_link": true
    }
  },
  "nbformat": 4,
  "nbformat_minor": 0
}