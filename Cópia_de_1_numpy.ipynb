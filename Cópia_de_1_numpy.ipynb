{
  "cells": [
    {
      "cell_type": "markdown",
      "metadata": {
        "id": "EG3QN3lh1wv0"
      },
      "source": [
        "# NumPy - Manipulando Dados Numéricos"
      ]
    },
    {
      "cell_type": "markdown",
      "metadata": {
        "id": "8HEN5GMv1wv6"
      },
      "source": [
        "## O que é o NumPy?\n",
        "\n",
        "O *NumPy* é uma biblioteca para a Linguagem de Programação Python, que da suporte à linguagem para trabalhar com grandes matrizes e vetores multidimensionais, juntamente com uma ampla coleção de funções matemáticas de alto nível.\n",
        "\n",
        "Especificamente, essa bibioteca fornece ao Python, objetos *arrays* multidimensionais e vários objetos derivados (p. ex.: masked arrays e matrices), com um conjunto de funções para operações rápidas em vetores e a Computação Numérica, por exemplo: \n",
        "\n",
        "* Funções Matemáticas e Lógicas;\n",
        "* Manipulação de Formas;\n",
        "* Ordenação;\n",
        "* Seleção;\n",
        "* Leitura de Dados (E/S);\n",
        "* Transformada Discreta de Fourier;\n",
        "* Álgebra Linear Básica;\n",
        "* Operações Estatísticas Básicas;\n",
        "* Simulação Aleatória.\n",
        "\n",
        "No núcleo da biblioteca NumPy temos o objeto *narray* que encapsula vetores n-dimensionais com tipos de dados homgêneos e muitas operações executadas no código compilado a fim de desempenho. \n",
        "\n",
        "### NumPy X Sequências Padrão do Python\n",
        "\n",
        "Existem várias diferenças importantes entre os vetores do NumPy e as sequências padrão do Python, são elas: \n",
        "\n",
        "* **Vetores Estáticos:** os vetores do NumPy têm tamanho fixo em sua criação, diferente das listas do Python que podem crescer dinamicamente em tempo de execução. Logo, quando alteramos o tamanho de um objeto *narray*, será criado um novo vetor e excluído o original;\n",
        "\n",
        "* **Tipo de Dados Homogêneo dos Itens:**  todos os elementos dos vetores em NumPy, devem ser obrigatoriamente do mesmo tipo de dados, logo, eles irão ter o mesmo tamanho em memória;\n",
        "\n",
        "* **Operações Matemáticas Avançadas:** os vetores do NumPy otimizam operações matemáticas avançadas e qualquer tipo de outras operações para um grande número de dados. Na prática, essas operações são executadas mais eficientemente e com menos código do que se usarmos as sequências padrão do Python;"
      ]
    },
    {
      "cell_type": "code",
      "execution_count": null,
      "metadata": {
        "id": "gWw5CLDB1wv7"
      },
      "outputs": [],
      "source": [
        "# NumPy na Prática\n",
        "import numpy as np             # Importa a biblioteca NumPy para seu projeto\n",
        "\n",
        "vetor = np.array([0, 1, 2, 3]) # instancia um vetor (array) em NumPy\n",
        "vetor                          # Imprime seu conteúdo"
      ]
    },
    {
      "cell_type": "markdown",
      "metadata": {
        "id": "AeDgEvzh1wv8"
      },
      "source": [
        "## Tipos de Dados"
      ]
    },
    {
      "cell_type": "markdown",
      "metadata": {
        "id": "SBnfEoDO1wv9"
      },
      "source": [
        "| Tipo de Dado | Descrição                                            |\n",
        "|:-------------|:-----------------------------------------------------|\n",
        "| np.int64     | Números inteiros de 64bits                           |\n",
        "| np.float32   | Números de ponto flutuante de precisão dupla (Reais) |\n",
        "| np.complex   | Números Complexos                                    |\n",
        "| np.bool      | Tipo lógico (Booleano)                               |\n",
        "| np.object    | Tipo object do Python                                |\n",
        "| np.string_   | Cadeia de Caracteres Fixa (String)                   |\n",
        "| np.unicode_  | Cadeia de Caracteres Unicode Fixa (String)           |"
      ]
    },
    {
      "cell_type": "markdown",
      "metadata": {
        "id": "Q6qSnU-Y1wv-"
      },
      "source": [
        "## Criação de Vetores"
      ]
    },
    {
      "cell_type": "markdown",
      "metadata": {
        "id": "yUdobCrg1wv-"
      },
      "source": [
        "### Construção Manual de Vetores"
      ]
    },
    {
      "cell_type": "code",
      "execution_count": null,
      "metadata": {
        "id": "86rIed4x1wv-"
      },
      "outputs": [],
      "source": [
        "# CONSTRUÇÃO MANUAL DE VETORES\n",
        "# Unidimencional (1D)\n",
        "\n",
        "vetor_numpy = np.array([0, 1, 2, 3, 4])\n",
        "\n",
        "print(vetor_numpy)        # Imprime o vetor\n",
        "print(vetor_numpy.ndim)   # Retorna o número de dimensões do vetor\n",
        "print(vetor_numpy.shape)  # Retorna a forma do vetor ou atribui uma tupla para as dimnesões do vetor\n",
        "print(len(vetor_numpy))   # Retorna o número de elementos do vetor\n",
        "\n",
        "# Multi-dimencional (n-D)\n",
        "\n",
        "# Matriz Bidimensional 2 (linhas) X 3 (colunas)\n",
        "matriz_numpy = np.array([[0, 1, 2], [3, 4, 5]]) \n",
        "\n",
        "print(matriz_numpy)\n",
        "print(matriz_numpy.ndim)\n",
        "print(matriz_numpy.shape)\n",
        "print(len(matriz_numpy))         # Retorna o tamanho da primeira dimensão do vetor (linhas)"
      ]
    },
    {
      "cell_type": "markdown",
      "metadata": {
        "id": "UoBN2edD1wv_"
      },
      "source": [
        "### Funções para Criação de Vetores"
      ]
    },
    {
      "cell_type": "code",
      "execution_count": null,
      "metadata": {
        "id": "Szp2jMl21wv_"
      },
      "outputs": [],
      "source": [
        "# Vetores Igualmente Espaçado\n",
        "print(\"Vetores Igualmente Espaçado\")\n",
        "vetor = np.arange(10) # 0 .. n - 1\n",
        "print(vetor)\n",
        "\n",
        "vetor_impar = np.arange(1, 9, 2) # Início, Fim e Incremento\n",
        "print(vetor_impar)\n",
        "\n",
        "# Vetores por números de pontos\n",
        "print(\"\\nVetores por Números de Pontos\")\n",
        "numero_pontos = np.linspace(0, 1, 6) # Início, Fim, Número de Pontos\n",
        "print(numero_pontos)\n",
        "\n",
        "# Matrizes Populares\n",
        "print(\"\\nMATRIZES POPULARES\")\n",
        "print(\"\\nMatriz de Uns\")\n",
        "matriz_de_uns = np.ones((3, 3)) # Tupla (3, 3)\n",
        "print(matriz_de_uns)\n",
        "\n",
        "print(\"\\nMatriz de Zeros\")\n",
        "matriz_de_zeros = np.zeros((2, 2))\n",
        "print(matriz_de_zeros)\n",
        "\n",
        "print(\"\\nMatriz Zerada com Diagonal de Uns\")\n",
        "matriz_zeros_diagonal_uns = np.eye(4)\n",
        "print(matriz_zeros_diagonal_uns)\n",
        "\n",
        "print(\"\\nMatriz Zerada com Diagonal de Permutações\")\n",
        "matriz_diagonal_permutacao = np.diag(np.array([1, 2, 3, 4]))\n",
        "print(matriz_diagonal_permutacao)\n",
        "\n",
        "print(\"\\nVETORES ALEATÓRIOS\")\n",
        "print(\"\\nVetor Aleatório Uniforme\")\n",
        "vetor_uniforme_aleatorio = np.random.rand(4)\n",
        "print(vetor_uniforme_aleatorio)\n",
        "\n",
        "print(\"\\nVetor Aleatório Gaussiano\")\n",
        "vetor_aleatorio_gaussiano = np.random.randn(4)\n",
        "print(vetor_aleatorio_gaussiano)\n",
        "\n",
        "np.random.seed(1234) # Definindo a semente aleatória"
      ]
    },
    {
      "cell_type": "markdown",
      "metadata": {
        "id": "li1qeaA71wwA"
      },
      "source": [
        "### Operações Matemáticas com Vetores"
      ]
    },
    {
      "cell_type": "code",
      "execution_count": null,
      "metadata": {
        "id": "11k2hys31wwA"
      },
      "outputs": [],
      "source": [
        "import numpy as np\n",
        "\n",
        "vetor_a = np.array([1, 2, 3])\n",
        "vetor_b = np.array([4, 5, 6])\n",
        "\n",
        "\n",
        "# Adição\n",
        "vetor_a + vetor_b              # Usando operador aritmético\n",
        "np.add(vetor_a, vetor_b)       # Usando função definida do NumPy\n",
        "\n",
        "# Subtração\n",
        "vetor_a - vetor_b              # Usando operador aritmético\n",
        "np.subtract(vetor_a, vetor_b)  # Usando função definida do NumPy\n",
        "\n",
        "# Multiplicação\n",
        "vetor_a * vetor_b              # Usando operador aritmético\n",
        "np.multiply(vetor_a, vetor_b)  # Usando função definida do NumPy\n",
        "\n",
        "# Divisão\n",
        "vetor_a / vetor_b              # Usando operador aritmético\n",
        "np.divide(vetor_a, vetor_b)    # Usando função definida do NumPy\n",
        "\n",
        "# Raiz Quadrada\n",
        "np.sqrt(vetor_a)\n",
        "\n",
        "# Função Exponencia\n",
        "np.exp(vetor_a)                \n",
        "\n",
        "# Seno\n",
        "np.sin(vetor_a)\n",
        "\n",
        "# Coseno\n",
        "np.cos(vetor_a)\n",
        "\n",
        "# Logaritmo Natural\n",
        "np.log(vetor_a)"
      ]
    },
    {
      "cell_type": "markdown",
      "metadata": {
        "id": "5SD7Lgdo1wwA"
      },
      "source": [
        "### Comparação"
      ]
    },
    {
      "cell_type": "code",
      "execution_count": null,
      "metadata": {
        "id": "frD85DGr1wwB"
      },
      "outputs": [],
      "source": [
        "import numpy as np\n",
        "\n",
        "vetor_a = np.array([1, 2, 3])\n",
        "vetor_b = np.array([4, 5, 6])\n",
        "\n",
        "# Compara cada um dos elementos dos vetores\n",
        "# Retorna um vetor booleano com os resultados da comparação\n",
        "vetor_a == vetor_b\n",
        "vetor_a != vetor_b\n",
        "\n",
        "vetor_a > vetor_b\n",
        "vetor_a >= vetor_b\n",
        "\n",
        "vetor_a < vetor_b\n",
        "vetor_a <= vetor_b"
      ]
    },
    {
      "cell_type": "markdown",
      "metadata": {
        "id": "8JdQN08o1wwB"
      },
      "source": [
        "### Funções Agregadas"
      ]
    },
    {
      "cell_type": "code",
      "execution_count": null,
      "metadata": {
        "id": "rlCDhINS1wwB"
      },
      "outputs": [],
      "source": [
        "import numpy as np\n",
        "\n",
        "vetor = np.array([1, 2, 3, 4, 5])\n",
        "\n",
        "vetor.sum()         # Soma todos os elementos do vetor\n",
        "vetor.cumsum()      # Soma acumulada de todos os elementos do vetor\n",
        "\n",
        "vetor.min()         # Retorna o menor elemento do vetor numérico\n",
        "vetor.max()         # Retorna o maior elemento do vetor numérico\n",
        "\n",
        "vetor.mean()        # Média\n",
        "np.median(vetor)    # Mediana\n",
        "np.corrcoef(vetor)  # Coeficiente de Correlação\n",
        "np.std(vetor)       # Desvio Padrão"
      ]
    },
    {
      "cell_type": "markdown",
      "metadata": {
        "id": "-XXpZD--1wwB"
      },
      "source": [
        "### Copiando Vetores"
      ]
    },
    {
      "cell_type": "code",
      "execution_count": null,
      "metadata": {
        "id": "VxbpUDkx1wwC"
      },
      "outputs": [],
      "source": [
        "import numpy as np\n",
        "\n",
        "vetor = np.array([1, 2, 3, 4, 5])\n",
        "\n",
        "copia_vetor = np.copy(vetor)\n",
        "print(copia_vetor)\n",
        "\n",
        "copia = vetor.copy()  \n",
        "print(copia)\n",
        "\n",
        "visao = vetor.view()  # Cria uma visão (view) do vetor [representação virutal em memória]\n",
        "print(visao)"
      ]
    },
    {
      "cell_type": "markdown",
      "metadata": {
        "id": "C280Bqnq1wwC"
      },
      "source": [
        "### Ordenando Vetores"
      ]
    },
    {
      "cell_type": "code",
      "execution_count": null,
      "metadata": {
        "id": "3N5XXbTe1wwC"
      },
      "outputs": [],
      "source": [
        "import numpy as np\n",
        "\n",
        "vetor = np.array([9, 8, 7, 6, 5, 4, 3, 2, 1])\n",
        "vetor.sort()\n",
        "vetor"
      ]
    },
    {
      "cell_type": "markdown",
      "metadata": {
        "id": "8otzEC7f1wwC"
      },
      "source": [
        "### Subconjunto, Fatiamento e Indexação"
      ]
    },
    {
      "cell_type": "code",
      "execution_count": null,
      "metadata": {
        "id": "4F9qVKLY1wwD"
      },
      "outputs": [],
      "source": [
        "import numpy as np\n",
        "\n",
        "vetor = np.array([1, 2, 3, 4, 5])\n",
        "matriz = np.array([(1, 2, 3), (4, 5, 6), (7, 8, 9)])\n",
        "\n",
        "\n",
        "print(vetor[2])        # vetor[i] = Pega o elemento do vetor na posição (i)\n",
        "print(matriz[1, 2])    # vetor[linha, coluna] = Pega um elemento em uma matriz\n",
        "\n",
        "\n",
        "print(vetor[0:3])      # vetor[inicio:quantidade] = Retorna 3 elementos contados à partir da posição de início ([0] \n",
        "print(matriz[1:2])     # Seleciona todos elementos da primeira linha até a terceira coluna\n",
        "print(matriz[0:3, 1])  # matriz[inicio:quantidade, coluna] Seleciona 3 elementos da segunda coluna [1], à partir da primeira linha [0]\n",
        "\n",
        "print(matriz[:1])      # Seleciona todos os itens da primeira linha\n",
        "print(matriz[:2])      # Seleciona todos os itens da primeira linha e segunda linha\n",
        "\n",
        "print(vetor[ : :-1])   # Seleciona todos os elementos de trás pra frente (invertido)\n",
        "\n",
        "# Indexação Lógica\n",
        "print(vetor[vetor <= 3]) # Seleciona todos os elementos dos índices menores iguais a 3\n",
        "print(vetor[1 + 3])      # Calcula dinamicamente a posição do vetor\n",
        "\n",
        "\n",
        "print(matriz[[1, 0, 1, 0]]) # Retorna uma matriz com as linhas 1 e 0 repetidas"
      ]
    },
    {
      "cell_type": "markdown",
      "metadata": {
        "id": "GBCkDSNA1wwD"
      },
      "source": [
        "## Entrada/Saída (I/O)"
      ]
    },
    {
      "cell_type": "code",
      "execution_count": null,
      "metadata": {
        "id": "SQEOa1-p1wwD"
      },
      "outputs": [],
      "source": [
        "import numpy as np\n",
        "from io import StringIO\n",
        "\n",
        "data = u\"1, 2, 3\\n4, 5, 6\"\n",
        "vetor = np.genfromtxt(StringIO(data), delimiter=\",\") # Converte dados para vetor\n",
        "np.savetxt(\"nome_arquivo.txt\", vetor, delimiter=\" \") # Salva o vetor como arquivo"
      ]
    },
    {
      "cell_type": "markdown",
      "metadata": {
        "id": "1zA_QvqN1wwD"
      },
      "source": [
        "```python\n",
        "# Exemplo - Carregamento de Arquivos\n",
        "np.genfromtxt(\"nome_arquivo.csv\", delimiter=',')\n",
        "np.loadtxt(\"nome_arquivo.txt\")\n",
        "```"
      ]
    },
    {
      "cell_type": "markdown",
      "metadata": {
        "id": "HiNX9r141wwE"
      },
      "source": [
        "# Exercícios"
      ]
    },
    {
      "cell_type": "markdown",
      "metadata": {
        "id": "pNClOWyj1wwE"
      },
      "source": [
        "1. Importe o pacote numpy com o nome np."
      ]
    },
    {
      "cell_type": "code",
      "execution_count": null,
      "metadata": {
        "id": "oliV5Aj91wwE"
      },
      "outputs": [],
      "source": [
        "import numpy as np"
      ]
    },
    {
      "cell_type": "markdown",
      "metadata": {
        "id": "g6k889Mp1wwE"
      },
      "source": [
        "2. Crie o seguinte vetor unidimensional (1D):\n",
        "\n",
        "| 0 | 1 | 2 | 3 | 4 | 5 | 6 | 7 | 8 | 9 |\n",
        "|:-:|:-:|:-:|:-:|:-:|:-:|:-:|:-:|:-:|:-:|"
      ]
    },
    {
      "cell_type": "code",
      "execution_count": null,
      "metadata": {
        "id": "Zz3ukhbQ1wwE"
      },
      "outputs": [],
      "source": [
        "vetor_numpy = np.array([0, 1, 2, 3, 4, 5, 6, 7, 8, 9])\n",
        "print(vetor_numpy"
      ]
    },
    {
      "cell_type": "markdown",
      "metadata": {
        "id": "IUztjDOD1wwE"
      },
      "source": [
        "3. Qual é o comprimento `len` do vetor?"
      ]
    },
    {
      "cell_type": "code",
      "execution_count": null,
      "metadata": {
        "id": "0-Qit3K61wwE"
      },
      "outputs": [],
      "source": [
        "print(len(vetor_numpy))"
      ]
    },
    {
      "cell_type": "markdown",
      "metadata": {
        "id": "KQXWr_VK1wwE"
      },
      "source": [
        "4. Quantas dimensões `ndim` o vetor possui?"
      ]
    },
    {
      "cell_type": "code",
      "execution_count": null,
      "metadata": {
        "id": "R2y7gIUe1wwF"
      },
      "outputs": [],
      "source": [
        "print(vetor_numpy.ndim)"
      ]
    },
    {
      "cell_type": "markdown",
      "metadata": {
        "id": "QYk8Z8OL1wwF"
      },
      "source": [
        "5. O que a função `shape` retorna?"
      ]
    },
    {
      "cell_type": "code",
      "execution_count": null,
      "metadata": {
        "id": "RmJQ9J631wwF"
      },
      "outputs": [],
      "source": [
        "print(vetor_numpy.shape)"
      ]
    },
    {
      "cell_type": "markdown",
      "metadata": {
        "id": "-JKGOVN11wwF"
      },
      "source": [
        "**Resposta**:"
      ]
    },
    {
      "cell_type": "markdown",
      "metadata": {
        "id": "R8GHoDi11wwF"
      },
      "source": [
        "6. Crie a variável *pares* e extraia todos os números pares do vetor para ela:"
      ]
    },
    {
      "cell_type": "code",
      "execution_count": null,
      "metadata": {
        "id": "JrGFQH8y1wwF"
      },
      "outputs": [],
      "source": [
        "vetor_par = np.arange(2, 8, 1) \n",
        "print(vetor_par)"
      ]
    },
    {
      "cell_type": "markdown",
      "metadata": {
        "id": "LRai4VK91wwF"
      },
      "source": [
        "7. Substitua todos os elementos ímpares do vetor por -1, em seguida, ordene os resultados:"
      ]
    },
    {
      "cell_type": "code",
      "execution_count": null,
      "metadata": {
        "id": "2tTWEGFM1wwF"
      },
      "outputs": [],
      "source": [
        "vetor_impar = np.arange(-1, 9, 2) \n",
        "print(vetor_impar)"
      ]
    },
    {
      "cell_type": "markdown",
      "metadata": {
        "id": "MqloRbMG1wwG"
      },
      "source": [
        "8. Converta o vetor unidimensional (1D) abaixo para uma matriz (2D) com 4 linhas. **Dica:** `reshape`."
      ]
    },
    {
      "cell_type": "code",
      "execution_count": null,
      "metadata": {
        "id": "kGYiccwg1wwG"
      },
      "outputs": [],
      "source": [
        "vetor = np.arrange(12)"
      ]
    },
    {
      "cell_type": "markdown",
      "metadata": {
        "id": "sZvLOzp31wwG"
      },
      "source": [
        "9. Obtenha os itens em comum, ou seja, a intersecção dos vetores `a` e `b` abaixo:\n",
        "**Saída**: [2, 4, 6]"
      ]
    },
    {
      "cell_type": "code",
      "execution_count": null,
      "metadata": {
        "id": "VN2fMfb_1wwG"
      },
      "outputs": [],
      "source": [
        "a = np.array([1, 2, 3, 4, 5, 6])\n",
        "b = np.array([2, 4, 6, 8, 10])"
      ]
    },
    {
      "cell_type": "markdown",
      "metadata": {
        "id": "EZPBE0G71wwG"
      },
      "source": [
        "10. Retorne os valores únicos do vetor `a` que não estão no vetor `b` (diferença).\n",
        "**Saída**: [1, 3]"
      ]
    },
    {
      "cell_type": "code",
      "execution_count": null,
      "metadata": {
        "id": "4N3KW-ql1wwH"
      },
      "outputs": [],
      "source": [
        "a = np.array([1, 2, 3, 4])\n",
        "b = np.array([2, 4, 6, 8, 10])"
      ]
    },
    {
      "cell_type": "markdown",
      "metadata": {
        "id": "bPOBTrIV1wwH"
      },
      "source": [
        "11. Retorne um vetor com as posições (índices) onde os elementos do vetor `a` sãos iguais aos elementos do vetor `b`. **Dica**: `where`.\n",
        "**Saída**: [2, 3, 5]"
      ]
    },
    {
      "cell_type": "code",
      "execution_count": null,
      "metadata": {
        "id": "xCP0xRnj1wwH"
      },
      "outputs": [],
      "source": [
        "a = np.array([1, 2, 3, 4, 5, 6])\n",
        "b = np.array([2, 4, 3, 4, 10, 6])"
      ]
    },
    {
      "cell_type": "markdown",
      "metadata": {
        "id": "Kk8y6V6A1wwH"
      },
      "source": [
        "12. Obtenha todos os itens entre 5 e 15 do vetor `a = [0, 1, 2, 3, . . ., 20]`."
      ]
    },
    {
      "cell_type": "code",
      "execution_count": null,
      "metadata": {
        "id": "yow6QxZR1wwH"
      },
      "outputs": [],
      "source": [
        "a = np.array([1, 2, 3, 4, 5, 6, 7, 8, 9, 10, 11, 12, 13, 14, 15, 16, 17, 18, 19, 20])\n",
        "b = np.array([5, 6, 7, 8, 9, 10, 11, 12, 13, 14, 15])"
      ]
    },
    {
      "cell_type": "markdown",
      "metadata": {
        "id": "Sok5reZm1wwH"
      },
      "source": [
        "13. Crie e imprima um vetor com 5 números aleatórios, sem seguida, obtenha os valores máximo e mínimo dele e mostre na tela."
      ]
    },
    {
      "cell_type": "code",
      "execution_count": null,
      "metadata": {
        "id": "KvLRnGCJ1wwI"
      },
      "outputs": [],
      "source": [
        "vetor_numeros_aleatorios = np.random.rand(5)\n",
        "rint(vetor_numeros_aleatorios)"
      ]
    },
    {
      "cell_type": "markdown",
      "metadata": {
        "id": "l9jOlPcq1wwI"
      },
      "source": [
        "14. Crie a seguinte matriz:\n",
        "\n",
        "|   |   |   |\n",
        "|:-:|:-:|:-:|\n",
        "| 7 | 8 | 9 |\n",
        "| 4 | 5 | 6 |\n",
        "| 1 | 2 | 3 |"
      ]
    },
    {
      "cell_type": "code",
      "execution_count": null,
      "metadata": {
        "id": "wlDSeDSC1wwI"
      },
      "outputs": [],
      "source": [
        "matriz_numpy = np.array([[1, 2, 3], [4, 5, 6], [7, 8, 9]])\n",
        "print(matriz_numpy)"
      ]
    },
    {
      "cell_type": "markdown",
      "metadata": {
        "id": "ZAXkycCD1wwI"
      },
      "source": [
        "15. Troque de lugar a primeira coluna com a útltima coluna da matriz."
      ]
    },
    {
      "cell_type": "code",
      "execution_count": null,
      "metadata": {
        "id": "1-R3Vwjy1wwI"
      },
      "outputs": [],
      "source": [
        "matriz_numpy = np.array([[7, 8, 9], [4, 5, 6], [1, 2, 3]])\n",
        "print(matriz_numpy)"
      ]
    },
    {
      "cell_type": "markdown",
      "metadata": {
        "id": "-R9ySnjd1wwI"
      },
      "source": [
        "16. Troque de lugar a primeira linha com a útltima linha da matriz."
      ]
    },
    {
      "cell_type": "code",
      "execution_count": null,
      "metadata": {
        "id": "m_GhWYKq1wwI"
      },
      "outputs": [],
      "source": [
        "matriz_numpy = np.array([[7, 8, 9], [4, 5, 6], [1, 2, 3]])\n",
        "print(matriz_numpy)"
      ]
    },
    {
      "cell_type": "markdown",
      "metadata": {
        "id": "tovNZteh1wwJ"
      },
      "source": [
        "17. Crie uma matriz  7 × 5 preenchida com números decimais aleatórios entre 1 e 5."
      ]
    },
    {
      "cell_type": "code",
      "execution_count": null,
      "metadata": {
        "id": "p_M8VmFM1wwJ"
      },
      "outputs": [],
      "source": [
        "vetor_numeros_aleatorios = np.random.rand(5)\n",
        "vetor_numeros_aleatorios2 = np.random.rand(7)\n",
        "print(vetor_numeros_aleatorios, vetor_numeros_aleatorios2)"
      ]
    },
    {
      "cell_type": "markdown",
      "metadata": {
        "id": "3EzixLdC1wwJ"
      },
      "source": [
        "18. Qual é o comprimento `len` da matriz?"
      ]
    },
    {
      "cell_type": "code",
      "execution_count": null,
      "metadata": {
        "id": "0lF4cHNn1wwJ"
      },
      "outputs": [],
      "source": [
        "print(len(matriz_numpy))"
      ]
    },
    {
      "cell_type": "markdown",
      "metadata": {
        "id": "Wk_DDvPc1wwJ"
      },
      "source": [
        "19. Quantas dimensões `ndim` a matriz possui?"
      ]
    },
    {
      "cell_type": "code",
      "execution_count": null,
      "metadata": {
        "id": "aJxYN7zP1wwK"
      },
      "outputs": [],
      "source": [
        "print(vetor_numpy.ndim)"
      ]
    },
    {
      "cell_type": "markdown",
      "metadata": {
        "id": "ffORazcA1wwK"
      },
      "source": [
        "20. O que a função `shape` retorna?"
      ]
    },
    {
      "cell_type": "code",
      "execution_count": null,
      "metadata": {
        "id": "mx7WgehT1wwK"
      },
      "outputs": [],
      "source": [
        "print(vetor_numpy.shape)"
      ]
    },
    {
      "cell_type": "markdown",
      "metadata": {
        "id": "3__nhOyx1wwK"
      },
      "source": [
        "**Resposta**:"
      ]
    },
    {
      "cell_type": "markdown",
      "metadata": {
        "id": "pkS4I8yK1wwL"
      },
      "source": [
        "# EXERCÍCIO: Análise de Dados dos Jogadores da FIFA ⚽"
      ]
    },
    {
      "cell_type": "markdown",
      "metadata": {
        "id": "Yq6aVayt1wwM"
      },
      "source": [
        "Neste exercício, iremos usar a biblioteca NumPy para fazer uma análise de dados de jogares de futebol da FIFA disponíveis em [`data/fifa.csv`](data/fifa.csv). O conjunto de dados (dataset) foi adaptado da versão original disponibilizada nas plataformas: [Kaggle](https://www.kaggle.com/karangadiya/fifa19/data) e [GitHub](https://github.com/amanthedorkknight/fifa18-all-player-statistics).\n",
        "\n",
        "## Dicionário de Dados\n",
        "\n",
        "| Coluna        | Descrição                                        |\n",
        "|:--------------|:-------------------------------------------------|\n",
        "| id            | Identificador único do jogador                   |\n",
        "| nome          | Nome do jogador                                  |\n",
        "| foto          | URL da fotografia do jogador.                    |\n",
        "| nacionalidade | País do jogador.                                 |\n",
        "| avaliacao     | Avaliação geral do jogador.                      |\n",
        "| potencial     | Indicador da classificação potencial do jogador. |\n",
        "| time          | Nome do time do jogador.                         |\n",
        "| pe_preferido  | Direito (Destro), Esquerdo (Canhoto).            |\n",
        "| reputacao     | Reputação Internacional do jogador.              |\n",
        "| altura_cm     | Altura do jogador em centímetros (cm).           |\n",
        "| peso_kg       | Peso do jogador em kilos (kg).                   |\n",
        "| posicao       | Posição do jogador no time.                      |\n",
        "| numero_camisa | Número da camisa do jogador.                     |"
      ]
    },
    {
      "cell_type": "markdown",
      "metadata": {
        "id": "92ds1Zj-1wwM"
      },
      "source": [
        "1. Importe o pacote numpy com o nome np."
      ]
    },
    {
      "cell_type": "code",
      "execution_count": null,
      "metadata": {
        "id": "YHj6zA9J1wwM"
      },
      "outputs": [],
      "source": [
        "import numpy as np"
      ]
    },
    {
      "cell_type": "markdown",
      "metadata": {
        "id": "YaCjgdok1wwM"
      },
      "source": [
        "2. Carregue o conjunto de dados da Fifa disponível na pasta (`data/fifa.csv`), ignorando a coluna `foto`, para uma matriz em uma variavel chamada `dados`. **Dicas:**\n",
        "    - Pesquise pela função `genfromtxt`; \n",
        "    - Não esqueça de especificar a codificação (encoding) como UTF-8;\n",
        "    - Ignore o cabeçalho dos dados usando o parâmetro `skip_header=True`"
      ]
    },
    {
      "cell_type": "code",
      "execution_count": null,
      "metadata": {
        "id": "CaahTX7F1wwM"
      },
      "outputs": [],
      "source": [
        "dados = np.genfromtxt('fifa.csv', delimiter= '\\t', dtype=object, usecols=[1, 2, 3, 4, 5, 6, 7, 8, 9]) encoding= 'utf-8' skip_header=True)\n",
        "dados "
      ]
    },
    {
      "cell_type": "markdown",
      "metadata": {
        "id": "uMDpe0ih1wwM"
      },
      "source": [
        "3. Quantas linhas foram lidas do arquivo?"
      ]
    },
    {
      "cell_type": "code",
      "execution_count": null,
      "metadata": {
        "id": "wBsWJsy11wwN"
      },
      "outputs": [],
      "source": [
        "print(len(dados))\n",
        "print(len(dados[0]))"
      ]
    },
    {
      "cell_type": "markdown",
      "metadata": {
        "id": "Dj1Mr81f1wwN"
      },
      "source": [
        "4. Quantas dimensões sua variável `dados` possui?"
      ]
    },
    {
      "cell_type": "code",
      "execution_count": null,
      "metadata": {
        "id": "vTEt4Vhl1wwN"
      },
      "outputs": [],
      "source": [
        "np.ndim(dados)"
      ]
    },
    {
      "cell_type": "markdown",
      "metadata": {
        "id": "suKer-a71wwN"
      },
      "source": [
        "5. O que a função shape retorna?"
      ]
    },
    {
      "cell_type": "code",
      "execution_count": null,
      "metadata": {
        "id": "8EdLbklf1wwN"
      },
      "outputs": [],
      "source": [
        "np.shape(dados)"
      ]
    },
    {
      "cell_type": "markdown",
      "metadata": {
        "id": "nKzvUXaE1wwN"
      },
      "source": [
        "**Resposta**:"
      ]
    },
    {
      "cell_type": "markdown",
      "metadata": {
        "id": "QlUUylJP1wwO"
      },
      "source": [
        "6. Mostre o dado que está na 3ª linha da 4ª coluna?"
      ]
    },
    {
      "cell_type": "code",
      "execution_count": null,
      "metadata": {
        "id": "Nkk38gky1wwO"
      },
      "outputs": [],
      "source": [
        "dados[:3, 4]"
      ]
    },
    {
      "cell_type": "markdown",
      "metadata": {
        "id": "RgPeoQaP1wwO"
      },
      "source": [
        "7. Exiba os dados da primeira linha do dataset."
      ]
    },
    {
      "cell_type": "code",
      "execution_count": null,
      "metadata": {
        "id": "LwitsEwV1wwO"
      },
      "outputs": [],
      "source": [
        "dados[:1]"
      ]
    },
    {
      "cell_type": "markdown",
      "metadata": {
        "id": "vmQPi-pX1wwO"
      },
      "source": [
        "8. Mostre as 5 primeiras linhas do conjunto de dados."
      ]
    },
    {
      "cell_type": "code",
      "execution_count": null,
      "metadata": {
        "id": "0a71aVTm1wwO"
      },
      "outputs": [],
      "source": [
        "dados[:5]"
      ]
    },
    {
      "cell_type": "markdown",
      "metadata": {
        "id": "TzcM2-Xc1wwP"
      },
      "source": [
        "9. Selecione todas as linhas da coluna `nome` (segunda coluna). **Dica:** use o operador `:`"
      ]
    },
    {
      "cell_type": "code",
      "execution_count": null,
      "metadata": {
        "id": "4j9c8qjs1wwP"
      },
      "outputs": [],
      "source": [
        "nome  = dados[:2]"
      ]
    },
    {
      "cell_type": "markdown",
      "metadata": {
        "id": "Vv8-DoEh1wwP"
      },
      "source": [
        "10. Inicialize um vetor de inteiros NumPy chamado: **idades**; com todas as linhas da coluna `idade` (3ª coluna)."
      ]
    },
    {
      "cell_type": "code",
      "execution_count": null,
      "metadata": {
        "id": "Z0LS7CmB1wwP"
      },
      "outputs": [],
      "source": [
        "idades = dados[:, 3].astype(int)"
      ]
    },
    {
      "cell_type": "markdown",
      "metadata": {
        "id": "FUl-SH8P1wwP"
      },
      "source": [
        "11. Qual é a média de idades dos jogadores?"
      ]
    },
    {
      "cell_type": "code",
      "execution_count": null,
      "metadata": {
        "id": "kYTR9-Qe1wwP"
      },
      "outputs": [],
      "source": [
        "print(np.round(idades.mean()), 'anos')"
      ]
    },
    {
      "cell_type": "markdown",
      "metadata": {
        "id": "mkI9VkN31wwP"
      },
      "source": [
        "12. Qual é a maior idade do conjunto de dados?"
      ]
    },
    {
      "cell_type": "code",
      "execution_count": null,
      "metadata": {
        "id": "nDcarPU11wwP"
      },
      "outputs": [],
      "source": [
        "print('Maior Idade =' , np.round(idades.max()), 'anos')"
      ]
    },
    {
      "cell_type": "markdown",
      "metadata": {
        "id": "lozaF7nc1wwP"
      },
      "source": [
        "13. Qual é a menor idade do conjunto de dados?"
      ]
    },
    {
      "cell_type": "code",
      "execution_count": null,
      "metadata": {
        "id": "1S_BOADl1wwQ"
      },
      "outputs": [],
      "source": [
        "print('Menor Idade =' , np.round(idades.min()), 'anos')"
      ]
    },
    {
      "cell_type": "markdown",
      "metadata": {
        "id": "X_wDzkDo1wwQ"
      },
      "source": [
        "14. Selecione todos os jogadores que possuem a maior idade deste conjunto de dados. Quantas linhas retornaram? "
      ]
    },
    {
      "cell_type": "code",
      "execution_count": null,
      "metadata": {
        "id": "6XcG4UhS1wwQ"
      },
      "outputs": [],
      "source": [
        "print(idades.max = dados[])"
      ]
    },
    {
      "cell_type": "markdown",
      "metadata": {
        "id": "rk_Fz2oL1wwQ"
      },
      "source": [
        "15. Selecione todos os jogadores que possuem a menor idade deste conjunto de dados. Quantas linhas retornaram? "
      ]
    },
    {
      "cell_type": "code",
      "execution_count": null,
      "metadata": {
        "id": "W1_qfQVt1wwQ"
      },
      "outputs": [],
      "source": [
        "print(idades.min = dados[])"
      ]
    },
    {
      "cell_type": "markdown",
      "metadata": {
        "id": "gfqooV3n1wwQ"
      },
      "source": [
        "16. Selecione todos os jogadores brasileiros para uma variável chamada dados_brasil. Use `b'Brasil'` para fazer a comparação."
      ]
    },
    {
      "cell_type": "code",
      "execution_count": null,
      "metadata": {
        "id": "1bXLI7Qe1wwQ"
      },
      "outputs": [],
      "source": [
        "a) dados_brasil = dados[jogadores]\n",
        "print(jogadores)\n",
        "\n",
        "b) brasil = dados[jogadores]\n",
        "print(jogadores)"
      ]
    },
    {
      "cell_type": "markdown",
      "metadata": {
        "id": "A9Od7n5V1wwQ"
      },
      "source": [
        "17. Quantos são os jogadores brasileiros?"
      ]
    },
    {
      "cell_type": "code",
      "execution_count": null,
      "metadata": {
        "id": "ekQRVqpE1wwR"
      },
      "outputs": [],
      "source": [
        "jogadores_brasileiros = dados[jogadores]\n",
        "print(jogadores_brasileiros)"
      ]
    },
    {
      "cell_type": "markdown",
      "metadata": {
        "id": "UOiZbiAO1wwR"
      },
      "source": [
        "18. Para as colunas `idade`, `altura` e `peso`, calcule:\n",
        "    - Média\n",
        "    - Mediana\n",
        "    - Máximo\n",
        "    - Mínimo"
      ]
    },
    {
      "cell_type": "code",
      "execution_count": null,
      "metadata": {
        "id": "Wa4iNOyx1wwR"
      },
      "outputs": [],
      "source": [
        "print('Média =', idade, altura, peso[:, 5].astype(int).mean())\n",
        "print('Mediana =', idade, altura, peso[:, 5].astype(int).mean())\n",
        "print('Máximo =', idade, altura, peso[:, 5].astype(int).max())\n",
        "print('Mínimo =', idade, altura, peso[:, 5].astype(int).min())"
      ]
    },
    {
      "cell_type": "markdown",
      "metadata": {
        "id": "TFiHfQ4h1wwR"
      },
      "source": [
        "19. Calcule o desvio padrão da `reputação` dos jogadores brasileiros"
      ]
    },
    {
      "cell_type": "code",
      "execution_count": null,
      "metadata": {
        "id": "sZ3j2NoA1wwS"
      },
      "outputs": [],
      "source": [
        "print(np.round(desvio_padrao.mean()), 'jogadores')"
      ]
    },
    {
      "cell_type": "markdown",
      "metadata": {
        "id": "Kwt0Qrwc1wwS"
      },
      "source": [
        "20. Qual jogador brasileiro tem menor pontencial?"
      ]
    },
    {
      "cell_type": "code",
      "execution_count": null,
      "metadata": {
        "id": "vLO2s5IY1wwS"
      },
      "outputs": [],
      "source": [
        "print('Menor Potencial =' len(classe_potencial),'Jogador Brasileiro')"
      ]
    }
  ],
  "metadata": {
    "kernelspec": {
      "display_name": "Python 3",
      "language": "python",
      "name": "python3"
    },
    "language_info": {
      "codemirror_mode": {
        "name": "ipython",
        "version": 3
      },
      "file_extension": ".py",
      "mimetype": "text/x-python",
      "name": "python",
      "nbconvert_exporter": "python",
      "pygments_lexer": "ipython3",
      "version": "3.7.4"
    },
    "colab": {
      "provenance": []
    }
  },
  "nbformat": 4,
  "nbformat_minor": 0
}